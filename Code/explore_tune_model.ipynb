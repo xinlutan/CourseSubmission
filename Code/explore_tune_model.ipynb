{
 "cells": [
  {
   "cell_type": "code",
   "execution_count": 1,
   "metadata": {},
   "outputs": [],
   "source": [
    "import os, sys, time\n",
    "import numpy as np\n",
    "import pandas as pd\n",
    "import matplotlib.pyplot as plt\n",
    "%matplotlib inline \n",
    "import seaborn as sns\n",
    "import scipy.sparse \n",
    "\n",
    "import sklearn\n",
    "from sklearn.pipeline import Pipeline\n",
    "from sklearn.model_selection import PredefinedSplit\n",
    "from sklearn.linear_model import LinearRegression, ElasticNet, ElasticNetCV\n",
    "import xgboost as xgb\n",
    "import lightgbm as lgbm\n",
    "\n",
    "sys.path.insert(1, './')\n",
    "import Utility\n",
    "import imp\n",
    "#imp.reload(Utility)  \n",
    "from Utility import *"
   ]
  },
  {
   "cell_type": "code",
   "execution_count": 2,
   "metadata": {},
   "outputs": [
    {
     "name": "stdout",
     "output_type": "stream",
     "text": [
      "numpy 1.18.1\n",
      "pandas 1.0.1\n",
      "sklearn 0.22.1\n",
      "lightgbm 2.3.1\n"
     ]
    }
   ],
   "source": [
    "for p in [np, pd, sklearn, lgbm]:\n",
    "    print (p.__name__, p.__version__)"
   ]
  },
  {
   "cell_type": "markdown",
   "metadata": {},
   "source": [
    "In this file, we load cleaned training data, train model, and save model."
   ]
  },
  {
   "cell_type": "markdown",
   "metadata": {},
   "source": [
    "# Load Cleaned Data"
   ]
  },
  {
   "cell_type": "code",
   "execution_count": 3,
   "metadata": {},
   "outputs": [],
   "source": [
    "train_df = pd.read_hdf('../CleanData/trainDF.h5', 'df')\n",
    "valid_df = pd.read_hdf('../CleanData/validDF.h5', 'df')"
   ]
  },
  {
   "cell_type": "code",
   "execution_count": 4,
   "metadata": {},
   "outputs": [
    {
     "name": "stdout",
     "output_type": "stream",
     "text": [
      "<class 'pandas.core.frame.DataFrame'>\n",
      "Int64Index: 5068102 entries, 4488710 to 9556811\n",
      "Data columns (total 49 columns):\n",
      " #   Column                       Dtype  \n",
      "---  ------                       -----  \n",
      " 0   shop_id                      int8   \n",
      " 1   item_id                      int16  \n",
      " 2   date_block_num               int8   \n",
      " 3   avg_item_price               float32\n",
      " 4   target                       float32\n",
      " 5   target_shop                  float32\n",
      " 6   target_item                  float32\n",
      " 7   item_category_id             int8   \n",
      " 8   target_item_category         float32\n",
      " 9   avg_item_price_lag_1         float32\n",
      " 10  target_lag_1                 float32\n",
      " 11  target_shop_lag_1            float32\n",
      " 12  target_item_lag_1            float32\n",
      " 13  target_item_category_lag_1   float32\n",
      " 14  avg_item_price_lag_2         float32\n",
      " 15  target_lag_2                 float32\n",
      " 16  target_shop_lag_2            float32\n",
      " 17  target_item_lag_2            float32\n",
      " 18  target_item_category_lag_2   float32\n",
      " 19  avg_item_price_lag_3         float32\n",
      " 20  target_lag_3                 float32\n",
      " 21  target_shop_lag_3            float32\n",
      " 22  target_item_lag_3            float32\n",
      " 23  target_item_category_lag_3   float32\n",
      " 24  avg_item_price_lag_4         float32\n",
      " 25  target_lag_4                 float32\n",
      " 26  target_shop_lag_4            float32\n",
      " 27  target_item_lag_4            float32\n",
      " 28  target_item_category_lag_4   float32\n",
      " 29  avg_item_price_lag_5         float32\n",
      " 30  target_lag_5                 float32\n",
      " 31  target_shop_lag_5            float32\n",
      " 32  target_item_lag_5            float32\n",
      " 33  target_item_category_lag_5   float32\n",
      " 34  avg_item_price_lag_6         float32\n",
      " 35  target_lag_6                 float32\n",
      " 36  target_shop_lag_6            float32\n",
      " 37  target_item_lag_6            float32\n",
      " 38  target_item_category_lag_6   float32\n",
      " 39  avg_item_price_lag_12        float32\n",
      " 40  target_lag_12                float32\n",
      " 41  target_shop_lag_12           float32\n",
      " 42  target_item_lag_12           float32\n",
      " 43  target_item_category_lag_12  float32\n",
      " 44  month                        int8   \n",
      " 45  shop_mean                    float64\n",
      " 46  item_mean                    float64\n",
      " 47  shop_item_mean               float64\n",
      " 48  item_category_mean           float64\n",
      "dtypes: float32(40), float64(4), int16(1), int8(4)\n",
      "memory usage: 995.7 MB\n"
     ]
    }
   ],
   "source": [
    "train_df.info()"
   ]
  },
  {
   "cell_type": "code",
   "execution_count": 5,
   "metadata": {},
   "outputs": [
    {
     "name": "stdout",
     "output_type": "stream",
     "text": [
      "<class 'pandas.core.frame.DataFrame'>\n",
      "Int64Index: 1356992 entries, 9556812 to 10913803\n",
      "Data columns (total 49 columns):\n",
      " #   Column                       Non-Null Count    Dtype  \n",
      "---  ------                       --------------    -----  \n",
      " 0   shop_id                      1356992 non-null  int8   \n",
      " 1   item_id                      1356992 non-null  int16  \n",
      " 2   date_block_num               1356992 non-null  int8   \n",
      " 3   avg_item_price               1356992 non-null  float32\n",
      " 4   target                       1356992 non-null  float32\n",
      " 5   target_shop                  1356992 non-null  float32\n",
      " 6   target_item                  1356992 non-null  float32\n",
      " 7   item_category_id             1356992 non-null  int8   \n",
      " 8   target_item_category         1356992 non-null  float32\n",
      " 9   avg_item_price_lag_1         1356992 non-null  float32\n",
      " 10  target_lag_1                 1356992 non-null  float32\n",
      " 11  target_shop_lag_1            1356992 non-null  float32\n",
      " 12  target_item_lag_1            1356992 non-null  float32\n",
      " 13  target_item_category_lag_1   1356992 non-null  float32\n",
      " 14  avg_item_price_lag_2         1356992 non-null  float32\n",
      " 15  target_lag_2                 1356992 non-null  float32\n",
      " 16  target_shop_lag_2            1356992 non-null  float32\n",
      " 17  target_item_lag_2            1356992 non-null  float32\n",
      " 18  target_item_category_lag_2   1356992 non-null  float32\n",
      " 19  avg_item_price_lag_3         1356992 non-null  float32\n",
      " 20  target_lag_3                 1356992 non-null  float32\n",
      " 21  target_shop_lag_3            1356992 non-null  float32\n",
      " 22  target_item_lag_3            1356992 non-null  float32\n",
      " 23  target_item_category_lag_3   1356992 non-null  float32\n",
      " 24  avg_item_price_lag_4         1356992 non-null  float32\n",
      " 25  target_lag_4                 1356992 non-null  float32\n",
      " 26  target_shop_lag_4            1356992 non-null  float32\n",
      " 27  target_item_lag_4            1356992 non-null  float32\n",
      " 28  target_item_category_lag_4   1356992 non-null  float32\n",
      " 29  avg_item_price_lag_5         1356992 non-null  float32\n",
      " 30  target_lag_5                 1356992 non-null  float32\n",
      " 31  target_shop_lag_5            1356992 non-null  float32\n",
      " 32  target_item_lag_5            1356992 non-null  float32\n",
      " 33  target_item_category_lag_5   1356992 non-null  float32\n",
      " 34  avg_item_price_lag_6         1356992 non-null  float32\n",
      " 35  target_lag_6                 1356992 non-null  float32\n",
      " 36  target_shop_lag_6            1356992 non-null  float32\n",
      " 37  target_item_lag_6            1356992 non-null  float32\n",
      " 38  target_item_category_lag_6   1356992 non-null  float32\n",
      " 39  avg_item_price_lag_12        1356992 non-null  float32\n",
      " 40  target_lag_12                1356992 non-null  float32\n",
      " 41  target_shop_lag_12           1356992 non-null  float32\n",
      " 42  target_item_lag_12           1356992 non-null  float32\n",
      " 43  target_item_category_lag_12  1356992 non-null  float32\n",
      " 44  month                        1356992 non-null  int8   \n",
      " 45  shop_mean                    1356992 non-null  float64\n",
      " 46  item_mean                    1356992 non-null  float64\n",
      " 47  shop_item_mean               1356992 non-null  float64\n",
      " 48  item_category_mean           1356992 non-null  float64\n",
      "dtypes: float32(40), float64(4), int16(1), int8(4)\n",
      "memory usage: 266.6 MB\n"
     ]
    }
   ],
   "source": [
    "valid_df.info()"
   ]
  },
  {
   "cell_type": "code",
   "execution_count": 6,
   "metadata": {},
   "outputs": [],
   "source": [
    "Y_train = train_df['target']\n",
    "Y_valid = valid_df['target']"
   ]
  },
  {
   "cell_type": "markdown",
   "metadata": {},
   "source": [
    "# LightGBM"
   ]
  },
  {
   "cell_type": "code",
   "execution_count": 7,
   "metadata": {},
   "outputs": [
    {
     "name": "stderr",
     "output_type": "stream",
     "text": [
      "/opt/anaconda3/lib/python3.7/site-packages/lightgbm/engine.py:148: UserWarning: Found `num_rounds` in params. Will use it instead of argument\n",
      "  warnings.warn(\"Found `{}` in params. Will use it instead of argument\".format(alias))\n",
      "/opt/anaconda3/lib/python3.7/site-packages/lightgbm/engine.py:153: UserWarning: Found `early_stopping_round` in params. Will use it instead of argument\n",
      "  warnings.warn(\"Found `{}` in params. Will use it instead of argument\".format(alias))\n"
     ]
    },
    {
     "name": "stdout",
     "output_type": "stream",
     "text": [
      "[1]\ttrain's rmse: 1.11494\tvalid's rmse: 1.00755\n",
      "Training until validation scores don't improve for 20 rounds\n",
      "[2]\ttrain's rmse: 1.04573\tvalid's rmse: 0.951846\n",
      "[3]\ttrain's rmse: 0.99807\tvalid's rmse: 0.915016\n",
      "[4]\ttrain's rmse: 0.964546\tvalid's rmse: 0.888932\n",
      "[5]\ttrain's rmse: 0.922858\tvalid's rmse: 0.858541\n",
      "[6]\ttrain's rmse: 0.90596\tvalid's rmse: 0.846599\n",
      "[7]\ttrain's rmse: 0.879031\tvalid's rmse: 0.826928\n",
      "[8]\ttrain's rmse: 0.863188\tvalid's rmse: 0.813086\n",
      "[9]\ttrain's rmse: 0.851892\tvalid's rmse: 0.806566\n",
      "[10]\ttrain's rmse: 0.844632\tvalid's rmse: 0.801526\n",
      "[11]\ttrain's rmse: 0.837195\tvalid's rmse: 0.797549\n",
      "[12]\ttrain's rmse: 0.831354\tvalid's rmse: 0.795516\n",
      "[13]\ttrain's rmse: 0.82845\tvalid's rmse: 0.793538\n",
      "[14]\ttrain's rmse: 0.82494\tvalid's rmse: 0.792379\n",
      "[15]\ttrain's rmse: 0.822125\tvalid's rmse: 0.792038\n",
      "[16]\ttrain's rmse: 0.81999\tvalid's rmse: 0.790611\n",
      "[17]\ttrain's rmse: 0.812984\tvalid's rmse: 0.786412\n",
      "[18]\ttrain's rmse: 0.811198\tvalid's rmse: 0.785757\n",
      "[19]\ttrain's rmse: 0.808072\tvalid's rmse: 0.784959\n",
      "[20]\ttrain's rmse: 0.803964\tvalid's rmse: 0.782797\n",
      "[21]\ttrain's rmse: 0.802006\tvalid's rmse: 0.782657\n",
      "[22]\ttrain's rmse: 0.800934\tvalid's rmse: 0.782106\n",
      "[23]\ttrain's rmse: 0.799148\tvalid's rmse: 0.782136\n",
      "[24]\ttrain's rmse: 0.796945\tvalid's rmse: 0.780638\n",
      "[25]\ttrain's rmse: 0.793379\tvalid's rmse: 0.778258\n",
      "[26]\ttrain's rmse: 0.791923\tvalid's rmse: 0.778024\n",
      "[27]\ttrain's rmse: 0.790582\tvalid's rmse: 0.777669\n",
      "[28]\ttrain's rmse: 0.787704\tvalid's rmse: 0.775931\n",
      "[29]\ttrain's rmse: 0.786819\tvalid's rmse: 0.77576\n",
      "[30]\ttrain's rmse: 0.785894\tvalid's rmse: 0.77569\n",
      "[31]\ttrain's rmse: 0.784938\tvalid's rmse: 0.775264\n",
      "[32]\ttrain's rmse: 0.783736\tvalid's rmse: 0.774298\n",
      "[33]\ttrain's rmse: 0.78277\tvalid's rmse: 0.773949\n",
      "[34]\ttrain's rmse: 0.781047\tvalid's rmse: 0.773378\n",
      "[35]\ttrain's rmse: 0.780268\tvalid's rmse: 0.773384\n",
      "[36]\ttrain's rmse: 0.779306\tvalid's rmse: 0.774033\n",
      "[37]\ttrain's rmse: 0.778642\tvalid's rmse: 0.77366\n",
      "[38]\ttrain's rmse: 0.777933\tvalid's rmse: 0.773536\n",
      "[39]\ttrain's rmse: 0.777454\tvalid's rmse: 0.773443\n",
      "[40]\ttrain's rmse: 0.776926\tvalid's rmse: 0.773279\n",
      "[41]\ttrain's rmse: 0.776009\tvalid's rmse: 0.773255\n",
      "[42]\ttrain's rmse: 0.775577\tvalid's rmse: 0.773314\n",
      "[43]\ttrain's rmse: 0.774821\tvalid's rmse: 0.773109\n",
      "[44]\ttrain's rmse: 0.773978\tvalid's rmse: 0.772962\n",
      "[45]\ttrain's rmse: 0.773293\tvalid's rmse: 0.772897\n",
      "[46]\ttrain's rmse: 0.771781\tvalid's rmse: 0.772359\n",
      "[47]\ttrain's rmse: 0.770423\tvalid's rmse: 0.771777\n",
      "[48]\ttrain's rmse: 0.769396\tvalid's rmse: 0.771798\n",
      "[49]\ttrain's rmse: 0.768716\tvalid's rmse: 0.771817\n",
      "[50]\ttrain's rmse: 0.766378\tvalid's rmse: 0.770653\n",
      "[51]\ttrain's rmse: 0.765621\tvalid's rmse: 0.770679\n",
      "[52]\ttrain's rmse: 0.765136\tvalid's rmse: 0.7706\n",
      "[53]\ttrain's rmse: 0.764466\tvalid's rmse: 0.770498\n",
      "[54]\ttrain's rmse: 0.763842\tvalid's rmse: 0.770677\n",
      "[55]\ttrain's rmse: 0.76294\tvalid's rmse: 0.770612\n",
      "[56]\ttrain's rmse: 0.762567\tvalid's rmse: 0.77062\n",
      "[57]\ttrain's rmse: 0.762143\tvalid's rmse: 0.77044\n",
      "[58]\ttrain's rmse: 0.761503\tvalid's rmse: 0.770791\n",
      "[59]\ttrain's rmse: 0.761113\tvalid's rmse: 0.770752\n",
      "[60]\ttrain's rmse: 0.760766\tvalid's rmse: 0.770753\n",
      "[61]\ttrain's rmse: 0.760175\tvalid's rmse: 0.770398\n",
      "[62]\ttrain's rmse: 0.759811\tvalid's rmse: 0.770563\n",
      "[63]\ttrain's rmse: 0.759061\tvalid's rmse: 0.770287\n",
      "[64]\ttrain's rmse: 0.758508\tvalid's rmse: 0.769978\n",
      "[65]\ttrain's rmse: 0.757854\tvalid's rmse: 0.769222\n",
      "[66]\ttrain's rmse: 0.757517\tvalid's rmse: 0.769096\n",
      "[67]\ttrain's rmse: 0.757202\tvalid's rmse: 0.769036\n",
      "[68]\ttrain's rmse: 0.756352\tvalid's rmse: 0.769543\n",
      "[69]\ttrain's rmse: 0.756007\tvalid's rmse: 0.769298\n",
      "[70]\ttrain's rmse: 0.755596\tvalid's rmse: 0.769213\n",
      "[71]\ttrain's rmse: 0.75496\tvalid's rmse: 0.769224\n",
      "[72]\ttrain's rmse: 0.754589\tvalid's rmse: 0.769133\n",
      "[73]\ttrain's rmse: 0.753936\tvalid's rmse: 0.769059\n",
      "[74]\ttrain's rmse: 0.753627\tvalid's rmse: 0.76905\n",
      "[75]\ttrain's rmse: 0.753341\tvalid's rmse: 0.768943\n",
      "[76]\ttrain's rmse: 0.751838\tvalid's rmse: 0.767425\n",
      "[77]\ttrain's rmse: 0.751429\tvalid's rmse: 0.767408\n",
      "[78]\ttrain's rmse: 0.751125\tvalid's rmse: 0.767344\n",
      "[79]\ttrain's rmse: 0.750522\tvalid's rmse: 0.767081\n",
      "[80]\ttrain's rmse: 0.750081\tvalid's rmse: 0.767587\n",
      "[81]\ttrain's rmse: 0.749864\tvalid's rmse: 0.767541\n",
      "[82]\ttrain's rmse: 0.749478\tvalid's rmse: 0.767288\n",
      "[83]\ttrain's rmse: 0.749169\tvalid's rmse: 0.767201\n",
      "[84]\ttrain's rmse: 0.748873\tvalid's rmse: 0.76705\n",
      "[85]\ttrain's rmse: 0.748616\tvalid's rmse: 0.766912\n",
      "[86]\ttrain's rmse: 0.748338\tvalid's rmse: 0.766854\n",
      "[87]\ttrain's rmse: 0.747889\tvalid's rmse: 0.766728\n",
      "[88]\ttrain's rmse: 0.747483\tvalid's rmse: 0.766657\n",
      "[89]\ttrain's rmse: 0.7472\tvalid's rmse: 0.766592\n",
      "[90]\ttrain's rmse: 0.74616\tvalid's rmse: 0.765608\n",
      "[91]\ttrain's rmse: 0.745324\tvalid's rmse: 0.765181\n",
      "[92]\ttrain's rmse: 0.745009\tvalid's rmse: 0.765346\n",
      "[93]\ttrain's rmse: 0.744746\tvalid's rmse: 0.76537\n",
      "[94]\ttrain's rmse: 0.743957\tvalid's rmse: 0.764244\n",
      "[95]\ttrain's rmse: 0.742856\tvalid's rmse: 0.76339\n",
      "[96]\ttrain's rmse: 0.742497\tvalid's rmse: 0.763352\n",
      "[97]\ttrain's rmse: 0.742243\tvalid's rmse: 0.763317\n",
      "[98]\ttrain's rmse: 0.742002\tvalid's rmse: 0.763244\n",
      "[99]\ttrain's rmse: 0.741712\tvalid's rmse: 0.763275\n",
      "[100]\ttrain's rmse: 0.741075\tvalid's rmse: 0.762549\n",
      "Did not meet early stopping. Best iteration is:\n",
      "[100]\ttrain's rmse: 0.741075\tvalid's rmse: 0.762549\n",
      "54.17863583564758\n"
     ]
    }
   ],
   "source": [
    "lgbm_features = ['avg_item_price_lag_1', 'target_lag_1', 'target_shop_lag_1', 'target_item_lag_1', \n",
    "                 'target_item_category_lag_1', 'avg_item_price_lag_2', 'target_lag_2', 'target_shop_lag_2',\n",
    "                 'target_item_lag_2', 'target_item_category_lag_2', 'avg_item_price_lag_3', 'target_lag_3', \n",
    "                 'target_shop_lag_3', 'target_item_lag_3', 'target_item_category_lag_3', 'avg_item_price_lag_4', \n",
    "                 'target_lag_4', 'target_shop_lag_4', 'target_item_lag_4', 'target_item_category_lag_4',\n",
    "                 'avg_item_price_lag_5', 'target_lag_5', 'target_shop_lag_5', 'target_item_lag_5', \n",
    "                 'target_item_category_lag_5', 'avg_item_price_lag_6', 'target_lag_6', 'target_shop_lag_6',\n",
    "                 'target_item_lag_6', 'target_item_category_lag_6', 'avg_item_price_lag_12', 'target_lag_12', \n",
    "                 'target_shop_lag_12', 'target_item_lag_12', 'target_item_category_lag_12', 'shop_mean',\n",
    "                 'item_mean', 'shop_item_mean', 'item_category_mean', 'month']\n",
    "lgbm_train_data = lgbm.Dataset(train_df[lgbm_features], label=Y_train, feature_name=lgbm_features) #categorical_feature\n",
    "lgbm_valid_data = lgbm.Dataset(valid_df[lgbm_features], label=Y_valid, feature_name=lgbm_features)\n",
    "\n",
    "params = {'objective':'regression', 'metric':['rmse'], 'boosting_type':'gbdt', 'num_rounds':100, 'eta':0.2, \n",
    "          'max_depth':8, 'min_data_in_leaf':150, 'min_gain_to_split':0.01, \n",
    "          'feature_fraction':0.7, 'bagging_freq':0, 'bagging_fraction':1.0, 'lambda_l1':0,\n",
    "          'lambda_l2':0.001, 'early_stopping_round':20, 'verbosity':1}\n",
    "eval_metrics = {}\n",
    "start = time.time()\n",
    "lgbm_model= lgbm.train(params, lgbm_train_data, valid_sets=[lgbm_train_data, lgbm_valid_data],\n",
    "                       valid_names=['train', 'valid'], evals_result=eval_metrics, verbose_eval=True)\n",
    "end = time.time()\n",
    "print(end-start)"
   ]
  },
  {
   "cell_type": "code",
   "execution_count": 10,
   "metadata": {},
   "outputs": [
    {
     "data": {
      "image/png": "[encoded data removed]",
      "text/plain": [
       "<Figure size 432x288 with 1 Axes>"
      ]
     },
     "metadata": {
      "needs_background": "light"
     },
     "output_type": "display_data"
    }
   ],
   "source": [
    "# Plot training progress of light GBM across number of iterations.\n",
    "plot_lgbm_eval_metrics(eval_metrics)"
   ]
  },
  {
   "cell_type": "code",
   "execution_count": 11,
   "metadata": {},
   "outputs": [
    {
     "data": {
      "text/html": [
       "<div>\n",
       "<style scoped>\n",
       "    .dataframe tbody tr th:only-of-type {\n",
       "        vertical-align: middle;\n",
       "    }\n",
       "\n",
       "    .dataframe tbody tr th {\n",
       "        vertical-align: top;\n",
       "    }\n",
       "\n",
       "    .dataframe thead th {\n",
       "        text-align: right;\n",
       "    }\n",
       "</style>\n",
       "<table border=\"1\" class=\"dataframe\">\n",
       "  <thead>\n",
       "    <tr style=\"text-align: right;\">\n",
       "      <th></th>\n",
       "      <th>feature</th>\n",
       "      <th>split</th>\n",
       "      <th>split_frac</th>\n",
       "      <th>gain</th>\n",
       "      <th>gain_frac</th>\n",
       "    </tr>\n",
       "  </thead>\n",
       "  <tbody>\n",
       "    <tr>\n",
       "      <th>1</th>\n",
       "      <td>target_lag_1</td>\n",
       "      <td>149</td>\n",
       "      <td>4.966667</td>\n",
       "      <td>4.799038e+06</td>\n",
       "      <td>37.018824</td>\n",
       "    </tr>\n",
       "    <tr>\n",
       "      <th>3</th>\n",
       "      <td>target_item_lag_1</td>\n",
       "      <td>311</td>\n",
       "      <td>10.366667</td>\n",
       "      <td>1.917383e+06</td>\n",
       "      <td>14.790313</td>\n",
       "    </tr>\n",
       "    <tr>\n",
       "      <th>37</th>\n",
       "      <td>shop_item_mean</td>\n",
       "      <td>148</td>\n",
       "      <td>4.933333</td>\n",
       "      <td>1.541907e+06</td>\n",
       "      <td>11.893961</td>\n",
       "    </tr>\n",
       "    <tr>\n",
       "      <th>35</th>\n",
       "      <td>shop_mean</td>\n",
       "      <td>235</td>\n",
       "      <td>7.833333</td>\n",
       "      <td>9.853041e+05</td>\n",
       "      <td>7.600439</td>\n",
       "    </tr>\n",
       "    <tr>\n",
       "      <th>36</th>\n",
       "      <td>item_mean</td>\n",
       "      <td>208</td>\n",
       "      <td>6.933333</td>\n",
       "      <td>8.219406e+05</td>\n",
       "      <td>6.340286</td>\n",
       "    </tr>\n",
       "    <tr>\n",
       "      <th>6</th>\n",
       "      <td>target_lag_2</td>\n",
       "      <td>55</td>\n",
       "      <td>1.833333</td>\n",
       "      <td>4.593819e+05</td>\n",
       "      <td>3.543580</td>\n",
       "    </tr>\n",
       "    <tr>\n",
       "      <th>7</th>\n",
       "      <td>target_shop_lag_2</td>\n",
       "      <td>86</td>\n",
       "      <td>2.866667</td>\n",
       "      <td>3.246442e+05</td>\n",
       "      <td>2.504241</td>\n",
       "    </tr>\n",
       "    <tr>\n",
       "      <th>38</th>\n",
       "      <td>item_category_mean</td>\n",
       "      <td>206</td>\n",
       "      <td>6.866667</td>\n",
       "      <td>2.800450e+05</td>\n",
       "      <td>2.160211</td>\n",
       "    </tr>\n",
       "    <tr>\n",
       "      <th>39</th>\n",
       "      <td>month</td>\n",
       "      <td>171</td>\n",
       "      <td>5.700000</td>\n",
       "      <td>2.307426e+05</td>\n",
       "      <td>1.779902</td>\n",
       "    </tr>\n",
       "    <tr>\n",
       "      <th>9</th>\n",
       "      <td>target_item_category_lag_2</td>\n",
       "      <td>126</td>\n",
       "      <td>4.200000</td>\n",
       "      <td>1.929581e+05</td>\n",
       "      <td>1.488440</td>\n",
       "    </tr>\n",
       "    <tr>\n",
       "      <th>4</th>\n",
       "      <td>target_item_category_lag_1</td>\n",
       "      <td>149</td>\n",
       "      <td>4.966667</td>\n",
       "      <td>1.854168e+05</td>\n",
       "      <td>1.430268</td>\n",
       "    </tr>\n",
       "    <tr>\n",
       "      <th>27</th>\n",
       "      <td>target_shop_lag_6</td>\n",
       "      <td>22</td>\n",
       "      <td>0.733333</td>\n",
       "      <td>1.700340e+05</td>\n",
       "      <td>1.311608</td>\n",
       "    </tr>\n",
       "    <tr>\n",
       "      <th>11</th>\n",
       "      <td>target_lag_3</td>\n",
       "      <td>36</td>\n",
       "      <td>1.200000</td>\n",
       "      <td>1.618344e+05</td>\n",
       "      <td>1.248358</td>\n",
       "    </tr>\n",
       "    <tr>\n",
       "      <th>0</th>\n",
       "      <td>avg_item_price_lag_1</td>\n",
       "      <td>141</td>\n",
       "      <td>4.700000</td>\n",
       "      <td>1.258975e+05</td>\n",
       "      <td>0.971148</td>\n",
       "    </tr>\n",
       "    <tr>\n",
       "      <th>2</th>\n",
       "      <td>target_shop_lag_1</td>\n",
       "      <td>99</td>\n",
       "      <td>3.300000</td>\n",
       "      <td>1.019474e+05</td>\n",
       "      <td>0.786402</td>\n",
       "    </tr>\n",
       "    <tr>\n",
       "      <th>8</th>\n",
       "      <td>target_item_lag_2</td>\n",
       "      <td>117</td>\n",
       "      <td>3.900000</td>\n",
       "      <td>9.080095e+04</td>\n",
       "      <td>0.700420</td>\n",
       "    </tr>\n",
       "    <tr>\n",
       "      <th>16</th>\n",
       "      <td>target_lag_4</td>\n",
       "      <td>17</td>\n",
       "      <td>0.566667</td>\n",
       "      <td>7.618726e+04</td>\n",
       "      <td>0.587693</td>\n",
       "    </tr>\n",
       "    <tr>\n",
       "      <th>13</th>\n",
       "      <td>target_item_lag_3</td>\n",
       "      <td>63</td>\n",
       "      <td>2.100000</td>\n",
       "      <td>5.681919e+04</td>\n",
       "      <td>0.438292</td>\n",
       "    </tr>\n",
       "    <tr>\n",
       "      <th>21</th>\n",
       "      <td>target_lag_5</td>\n",
       "      <td>20</td>\n",
       "      <td>0.666667</td>\n",
       "      <td>4.954513e+04</td>\n",
       "      <td>0.382181</td>\n",
       "    </tr>\n",
       "    <tr>\n",
       "      <th>32</th>\n",
       "      <td>target_shop_lag_12</td>\n",
       "      <td>24</td>\n",
       "      <td>0.800000</td>\n",
       "      <td>3.835406e+04</td>\n",
       "      <td>0.295856</td>\n",
       "    </tr>\n",
       "    <tr>\n",
       "      <th>19</th>\n",
       "      <td>target_item_category_lag_4</td>\n",
       "      <td>55</td>\n",
       "      <td>1.833333</td>\n",
       "      <td>3.724726e+04</td>\n",
       "      <td>0.287318</td>\n",
       "    </tr>\n",
       "    <tr>\n",
       "      <th>10</th>\n",
       "      <td>avg_item_price_lag_3</td>\n",
       "      <td>35</td>\n",
       "      <td>1.166667</td>\n",
       "      <td>3.068665e+04</td>\n",
       "      <td>0.236711</td>\n",
       "    </tr>\n",
       "    <tr>\n",
       "      <th>18</th>\n",
       "      <td>target_item_lag_4</td>\n",
       "      <td>60</td>\n",
       "      <td>2.000000</td>\n",
       "      <td>3.053719e+04</td>\n",
       "      <td>0.235558</td>\n",
       "    </tr>\n",
       "    <tr>\n",
       "      <th>5</th>\n",
       "      <td>avg_item_price_lag_2</td>\n",
       "      <td>48</td>\n",
       "      <td>1.600000</td>\n",
       "      <td>2.985530e+04</td>\n",
       "      <td>0.230298</td>\n",
       "    </tr>\n",
       "    <tr>\n",
       "      <th>12</th>\n",
       "      <td>target_shop_lag_3</td>\n",
       "      <td>29</td>\n",
       "      <td>0.966667</td>\n",
       "      <td>2.740931e+04</td>\n",
       "      <td>0.211430</td>\n",
       "    </tr>\n",
       "    <tr>\n",
       "      <th>26</th>\n",
       "      <td>target_lag_6</td>\n",
       "      <td>15</td>\n",
       "      <td>0.500000</td>\n",
       "      <td>2.660903e+04</td>\n",
       "      <td>0.205257</td>\n",
       "    </tr>\n",
       "    <tr>\n",
       "      <th>33</th>\n",
       "      <td>target_item_lag_12</td>\n",
       "      <td>51</td>\n",
       "      <td>1.700000</td>\n",
       "      <td>2.470429e+04</td>\n",
       "      <td>0.190564</td>\n",
       "    </tr>\n",
       "    <tr>\n",
       "      <th>14</th>\n",
       "      <td>target_item_category_lag_3</td>\n",
       "      <td>39</td>\n",
       "      <td>1.300000</td>\n",
       "      <td>2.253395e+04</td>\n",
       "      <td>0.173822</td>\n",
       "    </tr>\n",
       "    <tr>\n",
       "      <th>29</th>\n",
       "      <td>target_item_category_lag_6</td>\n",
       "      <td>33</td>\n",
       "      <td>1.100000</td>\n",
       "      <td>2.144363e+04</td>\n",
       "      <td>0.165412</td>\n",
       "    </tr>\n",
       "    <tr>\n",
       "      <th>24</th>\n",
       "      <td>target_item_category_lag_5</td>\n",
       "      <td>29</td>\n",
       "      <td>0.966667</td>\n",
       "      <td>1.516842e+04</td>\n",
       "      <td>0.117006</td>\n",
       "    </tr>\n",
       "    <tr>\n",
       "      <th>28</th>\n",
       "      <td>target_item_lag_6</td>\n",
       "      <td>40</td>\n",
       "      <td>1.333333</td>\n",
       "      <td>1.362893e+04</td>\n",
       "      <td>0.105131</td>\n",
       "    </tr>\n",
       "    <tr>\n",
       "      <th>23</th>\n",
       "      <td>target_item_lag_5</td>\n",
       "      <td>35</td>\n",
       "      <td>1.166667</td>\n",
       "      <td>1.281591e+04</td>\n",
       "      <td>0.098859</td>\n",
       "    </tr>\n",
       "    <tr>\n",
       "      <th>17</th>\n",
       "      <td>target_shop_lag_4</td>\n",
       "      <td>24</td>\n",
       "      <td>0.800000</td>\n",
       "      <td>1.179933e+04</td>\n",
       "      <td>0.091018</td>\n",
       "    </tr>\n",
       "    <tr>\n",
       "      <th>34</th>\n",
       "      <td>target_item_category_lag_12</td>\n",
       "      <td>29</td>\n",
       "      <td>0.966667</td>\n",
       "      <td>1.064996e+04</td>\n",
       "      <td>0.082152</td>\n",
       "    </tr>\n",
       "    <tr>\n",
       "      <th>22</th>\n",
       "      <td>target_shop_lag_5</td>\n",
       "      <td>14</td>\n",
       "      <td>0.466667</td>\n",
       "      <td>9.595671e+03</td>\n",
       "      <td>0.074019</td>\n",
       "    </tr>\n",
       "    <tr>\n",
       "      <th>15</th>\n",
       "      <td>avg_item_price_lag_4</td>\n",
       "      <td>19</td>\n",
       "      <td>0.633333</td>\n",
       "      <td>8.389667e+03</td>\n",
       "      <td>0.064716</td>\n",
       "    </tr>\n",
       "    <tr>\n",
       "      <th>25</th>\n",
       "      <td>avg_item_price_lag_6</td>\n",
       "      <td>17</td>\n",
       "      <td>0.566667</td>\n",
       "      <td>7.518517e+03</td>\n",
       "      <td>0.057996</td>\n",
       "    </tr>\n",
       "    <tr>\n",
       "      <th>20</th>\n",
       "      <td>avg_item_price_lag_5</td>\n",
       "      <td>20</td>\n",
       "      <td>0.666667</td>\n",
       "      <td>6.083426e+03</td>\n",
       "      <td>0.046926</td>\n",
       "    </tr>\n",
       "    <tr>\n",
       "      <th>31</th>\n",
       "      <td>target_lag_12</td>\n",
       "      <td>11</td>\n",
       "      <td>0.366667</td>\n",
       "      <td>4.135123e+03</td>\n",
       "      <td>0.031898</td>\n",
       "    </tr>\n",
       "    <tr>\n",
       "      <th>30</th>\n",
       "      <td>avg_item_price_lag_12</td>\n",
       "      <td>14</td>\n",
       "      <td>0.466667</td>\n",
       "      <td>2.785476e+03</td>\n",
       "      <td>0.021487</td>\n",
       "    </tr>\n",
       "  </tbody>\n",
       "</table>\n",
       "</div>"
      ],
      "text/plain": [
       "                        feature  split  split_frac          gain  gain_frac\n",
       "1                  target_lag_1    149    4.966667  4.799038e+06  37.018824\n",
       "3             target_item_lag_1    311   10.366667  1.917383e+06  14.790313\n",
       "37               shop_item_mean    148    4.933333  1.541907e+06  11.893961\n",
       "35                    shop_mean    235    7.833333  9.853041e+05   7.600439\n",
       "36                    item_mean    208    6.933333  8.219406e+05   6.340286\n",
       "6                  target_lag_2     55    1.833333  4.593819e+05   3.543580\n",
       "7             target_shop_lag_2     86    2.866667  3.246442e+05   2.504241\n",
       "38           item_category_mean    206    6.866667  2.800450e+05   2.160211\n",
       "39                        month    171    5.700000  2.307426e+05   1.779902\n",
       "9    target_item_category_lag_2    126    4.200000  1.929581e+05   1.488440\n",
       "4    target_item_category_lag_1    149    4.966667  1.854168e+05   1.430268\n",
       "27            target_shop_lag_6     22    0.733333  1.700340e+05   1.311608\n",
       "11                 target_lag_3     36    1.200000  1.618344e+05   1.248358\n",
       "0          avg_item_price_lag_1    141    4.700000  1.258975e+05   0.971148\n",
       "2             target_shop_lag_1     99    3.300000  1.019474e+05   0.786402\n",
       "8             target_item_lag_2    117    3.900000  9.080095e+04   0.700420\n",
       "16                 target_lag_4     17    0.566667  7.618726e+04   0.587693\n",
       "13            target_item_lag_3     63    2.100000  5.681919e+04   0.438292\n",
       "21                 target_lag_5     20    0.666667  4.954513e+04   0.382181\n",
       "32           target_shop_lag_12     24    0.800000  3.835406e+04   0.295856\n",
       "19   target_item_category_lag_4     55    1.833333  3.724726e+04   0.287318\n",
       "10         avg_item_price_lag_3     35    1.166667  3.068665e+04   0.236711\n",
       "18            target_item_lag_4     60    2.000000  3.053719e+04   0.235558\n",
       "5          avg_item_price_lag_2     48    1.600000  2.985530e+04   0.230298\n",
       "12            target_shop_lag_3     29    0.966667  2.740931e+04   0.211430\n",
       "26                 target_lag_6     15    0.500000  2.660903e+04   0.205257\n",
       "33           target_item_lag_12     51    1.700000  2.470429e+04   0.190564\n",
       "14   target_item_category_lag_3     39    1.300000  2.253395e+04   0.173822\n",
       "29   target_item_category_lag_6     33    1.100000  2.144363e+04   0.165412\n",
       "24   target_item_category_lag_5     29    0.966667  1.516842e+04   0.117006\n",
       "28            target_item_lag_6     40    1.333333  1.362893e+04   0.105131\n",
       "23            target_item_lag_5     35    1.166667  1.281591e+04   0.098859\n",
       "17            target_shop_lag_4     24    0.800000  1.179933e+04   0.091018\n",
       "34  target_item_category_lag_12     29    0.966667  1.064996e+04   0.082152\n",
       "22            target_shop_lag_5     14    0.466667  9.595671e+03   0.074019\n",
       "15         avg_item_price_lag_4     19    0.633333  8.389667e+03   0.064716\n",
       "25         avg_item_price_lag_6     17    0.566667  7.518517e+03   0.057996\n",
       "20         avg_item_price_lag_5     20    0.666667  6.083426e+03   0.046926\n",
       "31                target_lag_12     11    0.366667  4.135123e+03   0.031898\n",
       "30        avg_item_price_lag_12     14    0.466667  2.785476e+03   0.021487"
      ]
     },
     "execution_count": 11,
     "metadata": {},
     "output_type": "execute_result"
    }
   ],
   "source": [
    "# Show variable importance.\n",
    "show_lgbm_var_imp(lgbm_model)"
   ]
  },
  {
   "cell_type": "code",
   "execution_count": 12,
   "metadata": {},
   "outputs": [],
   "source": [
    "# Predict on training and validation set.\n",
    "Z_train_lgbm = lgbm_model.predict(train_df[lgbm_features])\n",
    "Z_valid_lgbm = lgbm_model.predict(valid_df[lgbm_features]).clip(0,20)"
   ]
  },
  {
   "cell_type": "code",
   "execution_count": 13,
   "metadata": {},
   "outputs": [
    {
     "name": "stdout",
     "output_type": "stream",
     "text": [
      "Count Y: 5068102\n",
      "Sum Y: 1488707.0\n",
      "Avg Y: 0.29374054074287415\n",
      "Avg Z: 0.2937405355158621\n",
      "r: 0.792027359733317\n",
      "fr: 1.039283492454184\n",
      "R2: 0.626411074653827\n",
      "RMSE: 0.7410751181344507\n",
      "MAE: 0.28809301305536694\n",
      "----------------------------------------------------------------------------------------------------\n",
      "Count Y: 1356992\n",
      "Sum Y: 359979.0\n",
      "Avg Y: 0.2652771770954132\n",
      "Avg Z: 0.2548725722475108\n",
      "r: 0.7104745468128915\n",
      "fr: 0.9911100796058334\n",
      "R2: 0.5046411858309808\n",
      "RMSE: 0.7623360977813964\n",
      "MAE: 0.28481842688531606\n"
     ]
    }
   ],
   "source": [
    "# Compute performance on training and validation set.\n",
    "compute_reg_score(Y_train, Z_train_lgbm)\n",
    "print('-'*100)\n",
    "compute_reg_score(Y_valid, Z_valid_lgbm)"
   ]
  },
  {
   "cell_type": "markdown",
   "metadata": {},
   "source": [
    "# Linear Model"
   ]
  },
  {
   "cell_type": "code",
   "execution_count": 14,
   "metadata": {},
   "outputs": [
    {
     "data": {
      "text/plain": [
       "ElasticNet(alpha=1e-08, copy_X=True, fit_intercept=True, l1_ratio=0.1,\n",
       "           max_iter=1000, normalize=True, positive=False, precompute=False,\n",
       "           random_state=None, selection='cyclic', tol=0.0001, warm_start=False)"
      ]
     },
     "execution_count": 14,
     "metadata": {},
     "output_type": "execute_result"
    }
   ],
   "source": [
    "# Start with linear model using all features.  We will use elastic net with some parameters, and fine tune later.\n",
    "lr_features = ['avg_item_price_lag_1', 'target_lag_1', 'target_shop_lag_1', 'target_item_lag_1', \n",
    "                 'target_item_category_lag_1', 'avg_item_price_lag_2', 'target_lag_2', 'target_shop_lag_2',\n",
    "                 'target_item_lag_2', 'target_item_category_lag_2', 'avg_item_price_lag_3', 'target_lag_3', \n",
    "                 'target_shop_lag_3', 'target_item_lag_3', 'target_item_category_lag_3', 'avg_item_price_lag_4', \n",
    "                 'target_lag_4', 'target_shop_lag_4', 'target_item_lag_4', 'target_item_category_lag_4',\n",
    "                 'avg_item_price_lag_5', 'target_lag_5', 'target_shop_lag_5', 'target_item_lag_5', \n",
    "                 'target_item_category_lag_5', 'avg_item_price_lag_6', 'target_lag_6', 'target_shop_lag_6',\n",
    "                 'target_item_lag_6', 'target_item_category_lag_6', 'avg_item_price_lag_12', 'target_lag_12', \n",
    "                 'target_shop_lag_12', 'target_item_lag_12', 'target_item_category_lag_12', 'shop_mean',\n",
    "                 'item_mean', 'shop_item_mean', 'item_category_mean', 'month']\n",
    "#lr_model = LinearRegression(normalize=True, n_jobs=-1)\n",
    "lr_model = ElasticNet(normalize=True, alpha=1e-8, l1_ratio=0.1)\n",
    "lr_model.fit(train_df[lr_features], Y_train)"
   ]
  },
  {
   "cell_type": "code",
   "execution_count": 15,
   "metadata": {},
   "outputs": [],
   "source": [
    "# Predict on training and validation set.\n",
    "Z_train_lr = lr_model.predict(train_df[lr_features])\n",
    "Z_valid_lr = lr_model.predict(valid_df[lr_features]).clip(0,20)"
   ]
  },
  {
   "cell_type": "code",
   "execution_count": 16,
   "metadata": {},
   "outputs": [
    {
     "name": "stdout",
     "output_type": "stream",
     "text": [
      "Count Y: 5068102\n",
      "Sum Y: 1488707.0\n",
      "Avg Y: 0.29374054074287415\n",
      "Avg Z: 0.2937405363980431\n",
      "r: 0.6416182672395958\n",
      "fr: 1.0225127162726126\n",
      "R2: 0.41147443120378624\n",
      "RMSE: 0.9301391041520919\n",
      "MAE: 0.3503528175829209\n",
      "----------------------------------------------------------------------------------------------------\n",
      "Count Y: 1356992\n",
      "Sum Y: 359979.0\n",
      "Avg Y: 0.2652771770954132\n",
      "Avg Z: 0.31740612925307055\n",
      "r: 0.6031473507315439\n",
      "fr: 0.9720847150975326\n",
      "R2: 0.3611704642461234\n",
      "RMSE: 0.8657231497112244\n",
      "MAE: 0.34794879982227955\n"
     ]
    }
   ],
   "source": [
    "# Compute performance on training and validation set.\n",
    "compute_reg_score(Y_train, Z_train_lr)\n",
    "print('-'*100)\n",
    "compute_reg_score(Y_valid, Z_valid_lr)"
   ]
  },
  {
   "cell_type": "code",
   "execution_count": 17,
   "metadata": {},
   "outputs": [
    {
     "data": {
      "text/plain": [
       "avg_item_price_lag_1          -4.682508e-05\n",
       "target_lag_1                   3.327415e-01\n",
       "target_shop_lag_1              1.522261e-06\n",
       "target_item_lag_1              1.312973e-03\n",
       "target_item_category_lag_1    -1.278379e-07\n",
       "avg_item_price_lag_2          -1.669665e-05\n",
       "target_lag_2                   9.092014e-02\n",
       "target_shop_lag_2             -2.206795e-05\n",
       "target_item_lag_2             -5.733206e-04\n",
       "target_item_category_lag_2    -4.822814e-06\n",
       "avg_item_price_lag_3           5.983566e-07\n",
       "target_lag_3                   4.778345e-02\n",
       "target_shop_lag_3             -1.683601e-05\n",
       "target_item_lag_3             -5.034187e-05\n",
       "target_item_category_lag_3    -1.587882e-06\n",
       "avg_item_price_lag_4          -1.518298e-05\n",
       "target_lag_4                   1.966541e-02\n",
       "target_shop_lag_4             -1.796683e-05\n",
       "target_item_lag_4             -1.287701e-04\n",
       "target_item_category_lag_4    -6.351687e-08\n",
       "avg_item_price_lag_5          -1.433026e-05\n",
       "target_lag_5                   2.874279e-02\n",
       "target_shop_lag_5             -8.137665e-06\n",
       "target_item_lag_5             -7.553696e-05\n",
       "target_item_category_lag_5     2.220032e-07\n",
       "avg_item_price_lag_6          -5.179762e-06\n",
       "target_lag_6                   2.774152e-02\n",
       "target_shop_lag_6             -1.002079e-05\n",
       "target_item_lag_6             -1.888458e-04\n",
       "target_item_category_lag_6     5.775593e-07\n",
       "avg_item_price_lag_12         -1.082105e-05\n",
       "target_lag_12                  2.153998e-02\n",
       "target_shop_lag_12            -5.649481e-06\n",
       "target_item_lag_12            -1.390817e-04\n",
       "target_item_category_lag_12    5.271990e-07\n",
       "shop_mean                      8.457288e-01\n",
       "item_mean                      1.836237e-01\n",
       "shop_item_mean                 3.869604e-01\n",
       "item_category_mean             1.837192e-01\n",
       "month                         -3.206769e-03\n",
       "dtype: float64"
      ]
     },
     "execution_count": 17,
     "metadata": {},
     "output_type": "execute_result"
    }
   ],
   "source": [
    "# Let's examine the coeeficients estimated by elastic net.\n",
    "beta = lr_model.coef_\n",
    "beta = pd.Series(beta, index=lr_features)\n",
    "beta"
   ]
  },
  {
   "cell_type": "code",
   "execution_count": 18,
   "metadata": {},
   "outputs": [],
   "source": [
    "# Beta coefficients are all non-zeros.  We will need to tune elastic net to do feature selection for linear model."
   ]
  },
  {
   "cell_type": "code",
   "execution_count": 19,
   "metadata": {},
   "outputs": [
    {
     "name": "stderr",
     "output_type": "stream",
     "text": [
      "[Parallel(n_jobs=-1)]: Using backend ThreadingBackend with 4 concurrent workers.\n"
     ]
    },
    {
     "name": "stdout",
     "output_type": "stream",
     "text": [
      "Path: 000 out of 010\n",
      "Path: 001 out of 010\n",
      "Path: 000 out of 010\n",
      "Path: 002 out of 010\n",
      "Path: 001 out of 010\n",
      "Path: 003 out of 010\n",
      "Path: 002 out of 010\n",
      "Path: 004 out of 010\n",
      "Path: 003 out of 010\n",
      "Path: 004 out of 010\n",
      "Path: 005 out of 010\n",
      "Path: 006 out of 010\n",
      "Path: 005 out of 010\n",
      "Path: 007 out of 010\n",
      "Path: 006 out of 010\n",
      "Path: 008 out of 010\n",
      "Path: 007 out of 010\n",
      "Path: 009 out of 010\n",
      "Path: 008 out of 010\n",
      "Path: 009 out of 010\n",
      "Path: 000 out of 010\n",
      "Path: 001 out of 010\n",
      "Path: 002 out of 010\n",
      "Path: 003 out of 010\n",
      "Path: 004 out of 010\n",
      "Path: 005 out of 010\n",
      "Path: 006 out of 010\n",
      "Path: 007 out of 010\n",
      "Path: 008 out of 010\n",
      "Path: 009 out of 010\n"
     ]
    },
    {
     "name": "stderr",
     "output_type": "stream",
     "text": [
      "[Parallel(n_jobs=-1)]: Done   3 out of   3 | elapsed:   49.5s finished\n"
     ]
    }
   ],
   "source": [
    "# Do cross-validation to tune elastic net.\n",
    "# Prepare cross validation data.\n",
    "test_fold = np.full(train_df.shape[0], -1, dtype=np.int8)\n",
    "sel = train_df['date_block_num']>=25 #use 25,26,27 as validation set when tuning elastic net\n",
    "test_fold[sel] = 0    \n",
    "ps = PredefinedSplit(test_fold=test_fold)\n",
    "# Base params\n",
    "max_iter = 1000\n",
    "alphas = None\n",
    "#alphas = [.1, .2, .3, .4, .5, .6, .7, .8, .9, 1]\n",
    "n_alphas = 10\n",
    "#l1_ratio = [.1, .3, .5, .7, .9, .95, .99, 1]\n",
    "l1_ratio = [.1, .5, 1]\n",
    "ecv_params = {'cv': ps, 'random_state': 0, # Changing this could do ensembling options    \n",
    "              'alphas': alphas, 'n_alphas': n_alphas, 'l1_ratio': l1_ratio,\n",
    "              'eps': 0.001, 'tol': 0.0001, 'max_iter': max_iter, 'fit_intercept': True, 'normalize': True, \n",
    "              'positive': False, 'selection': 'random', 'verbose': 2, 'n_jobs': -1\n",
    "             }\n",
    "# Tune\n",
    "ecv = ElasticNetCV()\n",
    "ecv = ecv.set_params(**ecv_params)\n",
    "ecv = ecv.fit(train_df[lr_features], Y_train)"
   ]
  },
  {
   "cell_type": "code",
   "execution_count": 20,
   "metadata": {},
   "outputs": [
    {
     "data": {
      "text/plain": [
       "(3.1661332781454837e-06, 1.0, 55)"
      ]
     },
     "execution_count": 20,
     "metadata": {},
     "output_type": "execute_result"
    }
   ],
   "source": [
    "# Get best parameter from ElasticNetCV.\n",
    "best_params = (ecv.alpha_, ecv.l1_ratio_, ecv.n_iter_)\n",
    "best_params"
   ]
  },
  {
   "cell_type": "code",
   "execution_count": 21,
   "metadata": {},
   "outputs": [
    {
     "data": {
      "text/plain": [
       "avg_item_price_lag_1          -5.032998e-05\n",
       "target_lag_1                   3.656257e-01\n",
       "target_shop_lag_1             -0.000000e+00\n",
       "target_item_lag_1              9.176079e-04\n",
       "target_item_category_lag_1    -0.000000e+00\n",
       "avg_item_price_lag_2          -4.954245e-06\n",
       "target_lag_2                   8.128958e-02\n",
       "target_shop_lag_2             -2.001247e-05\n",
       "target_item_lag_2             -4.758754e-04\n",
       "target_item_category_lag_2    -4.365288e-06\n",
       "avg_item_price_lag_3          -0.000000e+00\n",
       "target_lag_3                   4.220605e-02\n",
       "target_shop_lag_3             -1.634069e-05\n",
       "target_item_lag_3             -0.000000e+00\n",
       "target_item_category_lag_3    -2.767410e-07\n",
       "avg_item_price_lag_4          -6.809534e-06\n",
       "target_lag_4                   1.024049e-02\n",
       "target_shop_lag_4             -1.655187e-05\n",
       "target_item_lag_4             -1.779435e-05\n",
       "target_item_category_lag_4    -0.000000e+00\n",
       "avg_item_price_lag_5          -7.329395e-06\n",
       "target_lag_5                   2.239806e-02\n",
       "target_shop_lag_5             -5.543692e-06\n",
       "target_item_lag_5             -0.000000e+00\n",
       "target_item_category_lag_5    -0.000000e+00\n",
       "avg_item_price_lag_6          -0.000000e+00\n",
       "target_lag_6                   2.071135e-02\n",
       "target_shop_lag_6             -8.072926e-06\n",
       "target_item_lag_6             -1.041099e-04\n",
       "target_item_category_lag_6    -0.000000e+00\n",
       "avg_item_price_lag_12         -0.000000e+00\n",
       "target_lag_12                  9.606006e-03\n",
       "target_shop_lag_12            -9.162094e-07\n",
       "target_item_lag_12            -3.279026e-06\n",
       "target_item_category_lag_12   -0.000000e+00\n",
       "shop_mean                      7.951590e-01\n",
       "item_mean                      1.843279e-01\n",
       "shop_item_mean                 3.541571e-01\n",
       "item_category_mean             1.630267e-01\n",
       "month                         -7.427822e-04\n",
       "dtype: float64"
      ]
     },
     "execution_count": 21,
     "metadata": {},
     "output_type": "execute_result"
    }
   ],
   "source": [
    "# Get the corresponding elastic net coefficients.\n",
    "beta = pd.Series(ecv.coef_, index=lr_features)\n",
    "beta"
   ]
  },
  {
   "cell_type": "code",
   "execution_count": 22,
   "metadata": {},
   "outputs": [
    {
     "data": {
      "text/plain": [
       "(array([0, 1, 2, 3, 4, 5, 6, 7, 8, 9]), <a list of 10 Text xticklabel objects>)"
      ]
     },
     "execution_count": 22,
     "metadata": {},
     "output_type": "execute_result"
    },
    {
     "data": {
      "image/png": "[encoded data removed]",
      "text/plain": [
       "<Figure size 864x432 with 1 Axes>"
      ]
     },
     "metadata": {
      "needs_background": "light"
     },
     "output_type": "display_data"
    }
   ],
   "source": [
    "# Let's visualize the magnitude of coefficients estimated by the best elastic net model.\n",
    "fig = plt.figure(figsize=(12,6))\n",
    "sel = np.abs(beta)>0.01\n",
    "beta[sel].plot.bar()\n",
    "plt.xticks(rotation=45)"
   ]
  },
  {
   "cell_type": "code",
   "execution_count": 23,
   "metadata": {},
   "outputs": [],
   "source": [
    "# Generate predictions from the best elastic net model.\n",
    "Z_train_ecv = ecv.predict(train_df[lr_features])\n",
    "Z_valid_ecv = ecv.predict(valid_df[lr_features]).clip(0,20)"
   ]
  },
  {
   "cell_type": "code",
   "execution_count": 24,
   "metadata": {},
   "outputs": [
    {
     "name": "stdout",
     "output_type": "stream",
     "text": [
      "Count Y: 5068102\n",
      "Sum Y: 1488707.0\n",
      "Avg Y: 0.29374054074287415\n",
      "Avg Z: 0.2937405363980436\n",
      "r: 0.640858115257683\n",
      "fr: 1.0182084458087866\n",
      "R2: 0.41056777373735354\n",
      "RMSE: 0.9308552948016093\n",
      "MAE: 0.3470643763449833\n",
      "----------------------------------------------------------------------------------------------------\n",
      "Count Y: 1356992\n",
      "Sum Y: 359979.0\n",
      "Avg Y: 0.2652771770954132\n",
      "Avg Z: 0.3176384568119213\n",
      "r: 0.6037251728589164\n",
      "fr: 0.9709495312789024\n",
      "R2: 0.3618208500895894\n",
      "RMSE: 0.8652823455277013\n",
      "MAE: 0.3486087998770418\n"
     ]
    }
   ],
   "source": [
    "# Compute performance of the best elastic net model.\n",
    "compute_reg_score(Y_train, Z_train_ecv)\n",
    "print('-'*100)\n",
    "compute_reg_score(Y_valid, Z_valid_ecv)"
   ]
  },
  {
   "cell_type": "code",
   "execution_count": 25,
   "metadata": {},
   "outputs": [],
   "source": [
    "# Performance is comparable to the model without fine-tuning."
   ]
  },
  {
   "cell_type": "code",
   "execution_count": 26,
   "metadata": {},
   "outputs": [
    {
     "data": {
      "text/plain": [
       "LinearRegression(copy_X=True, fit_intercept=True, n_jobs=-1, normalize=True)"
      ]
     },
     "execution_count": 26,
     "metadata": {},
     "output_type": "execute_result"
    }
   ],
   "source": [
    "# We will retrain linear model on the training data using features selected by the best elastic net model only.\n",
    "lr_features = ['target_lag_1', 'target_lag_2', 'target_lag_3', 'target_lag_4', 'target_lag_5', 'target_lag_6', \n",
    "               'shop_mean', 'item_mean', 'shop_item_mean', 'item_category_mean']\n",
    "lr_model = LinearRegression(normalize=True, n_jobs=-1)\n",
    "lr_model.fit(train_df[lr_features], Y_train)"
   ]
  },
  {
   "cell_type": "code",
   "execution_count": 27,
   "metadata": {},
   "outputs": [
    {
     "data": {
      "text/plain": [
       "target_lag_1          0.390254\n",
       "target_lag_2          0.065788\n",
       "target_lag_3          0.035519\n",
       "target_lag_4          0.003315\n",
       "target_lag_5          0.015460\n",
       "target_lag_6          0.011241\n",
       "shop_mean             0.402589\n",
       "item_mean             0.203257\n",
       "shop_item_mean        0.404079\n",
       "item_category_mean    0.172647\n",
       "dtype: float64"
      ]
     },
     "execution_count": 27,
     "metadata": {},
     "output_type": "execute_result"
    }
   ],
   "source": [
    "# Let's examine the estimated coefficients.\n",
    "beta = lr_model.coef_\n",
    "beta = pd.Series(beta, index=lr_features)\n",
    "beta"
   ]
  },
  {
   "cell_type": "code",
   "execution_count": 28,
   "metadata": {},
   "outputs": [],
   "source": [
    "# Predict on training and validation set.\n",
    "Z_train_lr = lr_model.predict(train_df[lr_features])\n",
    "Z_valid_lr = lr_model.predict(valid_df[lr_features]).clip(0,20)"
   ]
  },
  {
   "cell_type": "code",
   "execution_count": 29,
   "metadata": {},
   "outputs": [
    {
     "name": "stdout",
     "output_type": "stream",
     "text": [
      "Count Y: 5068102\n",
      "Sum Y: 1488707.0\n",
      "Avg Y: 0.29374054074287415\n",
      "Avg Z: 0.2937405363980436\n",
      "r: 0.6304554729603922\n",
      "fr: 0.9999999915421738\n",
      "R2: 0.39747409286985846\n",
      "RMSE: 0.9411375419697358\n",
      "MAE: 0.3391042227989815\n",
      "----------------------------------------------------------------------------------------------------\n",
      "Count Y: 1356992\n",
      "Sum Y: 359979.0\n",
      "Avg Y: 0.2652771770954132\n",
      "Avg Z: 0.283242317688553\n",
      "r: 0.597095783902275\n",
      "fr: 0.961311261703089\n",
      "R2: 0.3556707931790931\n",
      "RMSE: 0.8694416606068114\n",
      "MAE: 0.322825979722477\n"
     ]
    }
   ],
   "source": [
    "# Compute performance on training and validation set.\n",
    "compute_reg_score(Y_train, Z_train_lr)\n",
    "print('-'*100)\n",
    "compute_reg_score(Y_valid, Z_valid_lr)"
   ]
  },
  {
   "cell_type": "markdown",
   "metadata": {},
   "source": [
    "# Ensembling"
   ]
  },
  {
   "cell_type": "markdown",
   "metadata": {},
   "source": [
    "We will combine predictions from light GBM and linear model. First, check that the two set of predictions are not overly correlated."
   ]
  },
  {
   "cell_type": "code",
   "execution_count": 30,
   "metadata": {},
   "outputs": [
    {
     "data": {
      "text/plain": [
       "<matplotlib.collections.PathCollection at 0x1a3407a390>"
      ]
     },
     "execution_count": 30,
     "metadata": {},
     "output_type": "execute_result"
    },
    {
     "data": {
      "image/png": "[encoded data removed]",
      "text/plain": [
       "<Figure size 432x288 with 1 Axes>"
      ]
     },
     "metadata": {
      "needs_background": "light"
     },
     "output_type": "display_data"
    }
   ],
   "source": [
    "plt.scatter(Z_valid_lgbm, Z_valid_lr)"
   ]
  },
  {
   "cell_type": "code",
   "execution_count": 31,
   "metadata": {},
   "outputs": [],
   "source": [
    "# They are somewhat correlated."
   ]
  },
  {
   "cell_type": "markdown",
   "metadata": {},
   "source": [
    "### Weighted Averaging"
   ]
  },
  {
   "cell_type": "markdown",
   "metadata": {},
   "source": [
    "We will use a simple convex combination to combine the two set of predictions.  We will find the optimal combination coefficient alpha using grid search on the range of alphas_to_try.  The best alpha should have the lowest RMSE on the validation predictions."
   ]
  },
  {
   "cell_type": "code",
   "execution_count": 32,
   "metadata": {},
   "outputs": [],
   "source": [
    "alphas_to_try = np.linspace(0, 1, 1001)\n",
    "\n",
    "best_alpha = 0 \n",
    "rmse_train_simple_mix = np.inf \n",
    "for alpha in alphas_to_try:\n",
    "    Z_mix = alpha*Z_valid_lgbm + (1 - alpha)*Z_valid_lr\n",
    "    rmse = np.sqrt(mean_squared_error(Y_valid, Z_mix)) \n",
    "    if rmse<rmse_train_simple_mix:\n",
    "        best_alpha = alpha\n",
    "        rmse_train_simple_mix = rmse"
   ]
  },
  {
   "cell_type": "code",
   "execution_count": 33,
   "metadata": {},
   "outputs": [
    {
     "data": {
      "text/plain": [
       "0.974"
      ]
     },
     "execution_count": 33,
     "metadata": {},
     "output_type": "execute_result"
    }
   ],
   "source": [
    "best_alpha"
   ]
  },
  {
   "cell_type": "code",
   "execution_count": 34,
   "metadata": {},
   "outputs": [
    {
     "name": "stdout",
     "output_type": "stream",
     "text": [
      "Count Y: 1356992\n",
      "Sum Y: 359979.0\n",
      "Avg Y: 0.2652771770954132\n",
      "Avg Z: 0.255610185628978\n",
      "r: 0.7105128447943058\n",
      "fr: 0.9982715998932865\n",
      "R2: 0.5047473242242364\n",
      "RMSE: 0.7622544221748303\n",
      "MAE: 0.285438631177365\n"
     ]
    }
   ],
   "source": [
    "# Compute performance of the best combined validation prediction.\n",
    "Z_mix = best_alpha*Z_valid_lgbm + (1 - best_alpha)*Z_valid_lr\n",
    "compute_reg_score(Y_valid, Z_mix)"
   ]
  },
  {
   "cell_type": "code",
   "execution_count": null,
   "metadata": {},
   "outputs": [],
   "source": []
  }
 ],
 "metadata": {
  "kernelspec": {
   "display_name": "Python 3",
   "language": "python",
   "name": "python3"
  },
  "language_info": {
   "codemirror_mode": {
    "name": "ipython",
    "version": 3
   },
   "file_extension": ".py",
   "mimetype": "text/x-python",
   "name": "python",
   "nbconvert_exporter": "python",
   "pygments_lexer": "ipython3",
   "version": "3.7.6"
  }
 },
 "nbformat": 4,
 "nbformat_minor": 4
}
