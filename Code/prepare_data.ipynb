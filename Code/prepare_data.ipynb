{
 "cells": [
  {
   "cell_type": "code",
   "execution_count": 1,
   "metadata": {},
   "outputs": [],
   "source": [
    "import gc, os, pickle, sys, time\n",
    "from itertools import product\n",
    "import numpy as np\n",
    "import pandas as pd\n",
    "import matplotlib.pyplot as plt\n",
    "import seaborn as sns\n",
    "import sklearn\n",
    "%matplotlib inline\n",
    "from scipy import stats\n",
    "from tqdm import tqdm, tqdm_notebook\n",
    "from sklearn.feature_extraction.text import TfidfVectorizer\n",
    "\n",
    "import warnings"
   ]
  },
  {
   "cell_type": "code",
   "execution_count": 2,
   "metadata": {},
   "outputs": [
    {
     "name": "stdout",
     "output_type": "stream",
     "text": [
      "numpy 1.18.1\n",
      "pandas 1.0.1\n",
      "sklearn 0.22.1\n"
     ]
    }
   ],
   "source": [
    "for p in [np, pd, sklearn]:\n",
    "    print (p.__name__, p.__version__)"
   ]
  },
  {
   "cell_type": "markdown",
   "metadata": {},
   "source": [
    "In this file, we load raw data, perform data preprocessing, and save the cleaned data."
   ]
  },
  {
   "cell_type": "markdown",
   "metadata": {},
   "source": [
    "# Load Data"
   ]
  },
  {
   "cell_type": "code",
   "execution_count": 3,
   "metadata": {},
   "outputs": [],
   "source": [
    "DATA_FOLDER = '../Data'\n",
    "sales           = pd.read_csv(os.path.join(DATA_FOLDER, 'sales_train.csv')) #2935849 x 6\n",
    "shops           = pd.read_csv(os.path.join(DATA_FOLDER, 'shops.csv')) #60 x 2\n",
    "items           = pd.read_csv(os.path.join(DATA_FOLDER, 'items.csv')) #22170 x 3\n",
    "item_categories = pd.read_csv(os.path.join(DATA_FOLDER, 'item_categories.csv')) #84 x 2\n",
    "test            = pd.read_csv(os.path.join(DATA_FOLDER, 'test.csv')) #214200 x 3\n",
    "sample_submission = pd.read_csv(os.path.join(DATA_FOLDER, 'sample_submission.csv')) #214200 x 2"
   ]
  },
  {
   "cell_type": "markdown",
   "metadata": {},
   "source": [
    "# Quick Data Overview"
   ]
  },
  {
   "cell_type": "code",
   "execution_count": 4,
   "metadata": {},
   "outputs": [
    {
     "name": "stdout",
     "output_type": "stream",
     "text": [
      "(2935849, 6)\n",
      "(60, 2)\n",
      "(22170, 3)\n",
      "(84, 2)\n",
      "(214200, 3)\n",
      "(214200, 2)\n",
      "----------------------------------------------------------------------------------------------------\n",
      "         date  date_block_num  shop_id  item_id  item_price  item_cnt_day\n",
      "0  02.01.2013               0       59    22154      999.00           1.0\n",
      "1  03.01.2013               0       25     2552      899.00           1.0\n",
      "2  05.01.2013               0       25     2552      899.00          -1.0\n",
      "3  06.01.2013               0       25     2554     1709.05           1.0\n",
      "4  15.01.2013               0       25     2555     1099.00           1.0\n",
      "----------------------------------------------------------------------------------------------------\n",
      "                        shop_name  shop_id\n",
      "0   !Якутск Орджоникидзе, 56 фран        0\n",
      "1   !Якутск ТЦ \"Центральный\" фран        1\n",
      "2                Адыгея ТЦ \"Мега\"        2\n",
      "3  Балашиха ТРК \"Октябрь-Киномир\"        3\n",
      "4        Волжский ТЦ \"Волга Молл\"        4\n",
      "----------------------------------------------------------------------------------------------------\n",
      "                                           item_name  item_id  \\\n",
      "0          ! ВО ВЛАСТИ НАВАЖДЕНИЯ (ПЛАСТ.)         D        0   \n",
      "1  !ABBYY FineReader 12 Professional Edition Full...        1   \n",
      "2      ***В ЛУЧАХ СЛАВЫ   (UNV)                    D        2   \n",
      "3    ***ГОЛУБАЯ ВОЛНА  (Univ)                      D        3   \n",
      "4        ***КОРОБКА (СТЕКЛО)                       D        4   \n",
      "\n",
      "   item_category_id  \n",
      "0                40  \n",
      "1                76  \n",
      "2                40  \n",
      "3                40  \n",
      "4                40  \n",
      "----------------------------------------------------------------------------------------------------\n",
      "        item_category_name  item_category_id\n",
      "0  PC - Гарнитуры/Наушники                 0\n",
      "1         Аксессуары - PS2                 1\n",
      "2         Аксессуары - PS3                 2\n",
      "3         Аксессуары - PS4                 3\n",
      "4         Аксессуары - PSP                 4\n",
      "----------------------------------------------------------------------------------------------------\n",
      "   ID  shop_id  item_id\n",
      "0   0        5     5037\n",
      "1   1        5     5320\n",
      "2   2        5     5233\n",
      "3   3        5     5232\n",
      "4   4        5     5268\n",
      "----------------------------------------------------------------------------------------------------\n",
      "   ID  item_cnt_month\n",
      "0   0             0.5\n",
      "1   1             0.5\n",
      "2   2             0.5\n",
      "3   3             0.5\n",
      "4   4             0.5\n"
     ]
    }
   ],
   "source": [
    "df = [sales, shops, items, item_categories, test, sample_submission]\n",
    "for d in df:\n",
    "    print(d.shape)\n",
    "    \n",
    "for d in df:\n",
    "    print(\"-\"*100)\n",
    "    print(d.head())"
   ]
  },
  {
   "cell_type": "code",
   "execution_count": 5,
   "metadata": {},
   "outputs": [
    {
     "data": {
      "text/plain": [
       "6"
      ]
     },
     "execution_count": 5,
     "metadata": {},
     "output_type": "execute_result"
    }
   ],
   "source": [
    "# Check duplicates.\n",
    "sales.duplicated().sum()"
   ]
  },
  {
   "cell_type": "code",
   "execution_count": 6,
   "metadata": {},
   "outputs": [
    {
     "data": {
      "text/plain": [
       "<matplotlib.axes._subplots.AxesSubplot at 0x1a1a91f090>"
      ]
     },
     "execution_count": 6,
     "metadata": {},
     "output_type": "execute_result"
    },
    {
     "data": {
      "image/png": "[encoded data removed]",
      "text/plain": [
       "<Figure size 432x288 with 1 Axes>"
      ]
     },
     "metadata": {
      "needs_background": "light"
     },
     "output_type": "display_data"
    }
   ],
   "source": [
    "# Check distribution of item_price.\n",
    "sns.boxplot(sales['item_price'])"
   ]
  },
  {
   "cell_type": "code",
   "execution_count": 7,
   "metadata": {},
   "outputs": [
    {
     "data": {
      "text/plain": [
       "<matplotlib.axes._subplots.AxesSubplot at 0x1a170e6c50>"
      ]
     },
     "execution_count": 7,
     "metadata": {},
     "output_type": "execute_result"
    },
    {
     "data": {
      "image/png": "[encoded data removed]",
      "text/plain": [
       "<Figure size 432x288 with 1 Axes>"
      ]
     },
     "metadata": {
      "needs_background": "light"
     },
     "output_type": "display_data"
    }
   ],
   "source": [
    "# Check distribution of item_cnt_day.\n",
    "sns.boxplot(sales['item_cnt_day'])"
   ]
  },
  {
   "cell_type": "code",
   "execution_count": 8,
   "metadata": {},
   "outputs": [],
   "source": [
    "# Let's drop the outlying observations.\n",
    "sel = (sales['item_price']<100000) & (sales['item_cnt_day']<1200) \n",
    "sales = sales[sel]"
   ]
  },
  {
   "cell_type": "code",
   "execution_count": 9,
   "metadata": {},
   "outputs": [
    {
     "data": {
      "text/html": [
       "<div>\n",
       "<style scoped>\n",
       "    .dataframe tbody tr th:only-of-type {\n",
       "        vertical-align: middle;\n",
       "    }\n",
       "\n",
       "    .dataframe tbody tr th {\n",
       "        vertical-align: top;\n",
       "    }\n",
       "\n",
       "    .dataframe thead th {\n",
       "        text-align: right;\n",
       "    }\n",
       "</style>\n",
       "<table border=\"1\" class=\"dataframe\">\n",
       "  <thead>\n",
       "    <tr style=\"text-align: right;\">\n",
       "      <th></th>\n",
       "      <th>item_price</th>\n",
       "      <th>item_cnt_day</th>\n",
       "    </tr>\n",
       "  </thead>\n",
       "  <tbody>\n",
       "    <tr>\n",
       "      <th>count</th>\n",
       "      <td>2.935847e+06</td>\n",
       "      <td>2.935847e+06</td>\n",
       "    </tr>\n",
       "    <tr>\n",
       "      <th>mean</th>\n",
       "      <td>8.907489e+02</td>\n",
       "      <td>1.241903e+00</td>\n",
       "    </tr>\n",
       "    <tr>\n",
       "      <th>std</th>\n",
       "      <td>1.720490e+03</td>\n",
       "      <td>2.292963e+00</td>\n",
       "    </tr>\n",
       "    <tr>\n",
       "      <th>min</th>\n",
       "      <td>-1.000000e+00</td>\n",
       "      <td>-2.200000e+01</td>\n",
       "    </tr>\n",
       "    <tr>\n",
       "      <th>25%</th>\n",
       "      <td>2.490000e+02</td>\n",
       "      <td>1.000000e+00</td>\n",
       "    </tr>\n",
       "    <tr>\n",
       "      <th>50%</th>\n",
       "      <td>3.990000e+02</td>\n",
       "      <td>1.000000e+00</td>\n",
       "    </tr>\n",
       "    <tr>\n",
       "      <th>75%</th>\n",
       "      <td>9.990000e+02</td>\n",
       "      <td>1.000000e+00</td>\n",
       "    </tr>\n",
       "    <tr>\n",
       "      <th>max</th>\n",
       "      <td>5.920000e+04</td>\n",
       "      <td>1.000000e+03</td>\n",
       "    </tr>\n",
       "  </tbody>\n",
       "</table>\n",
       "</div>"
      ],
      "text/plain": [
       "         item_price  item_cnt_day\n",
       "count  2.935847e+06  2.935847e+06\n",
       "mean   8.907489e+02  1.241903e+00\n",
       "std    1.720490e+03  2.292963e+00\n",
       "min   -1.000000e+00 -2.200000e+01\n",
       "25%    2.490000e+02  1.000000e+00\n",
       "50%    3.990000e+02  1.000000e+00\n",
       "75%    9.990000e+02  1.000000e+00\n",
       "max    5.920000e+04  1.000000e+03"
      ]
     },
     "execution_count": 9,
     "metadata": {},
     "output_type": "execute_result"
    }
   ],
   "source": [
    "# Further summary for item_price and item_cnt_day.\n",
    "sales[['item_price', 'item_cnt_day']].describe()"
   ]
  },
  {
   "cell_type": "code",
   "execution_count": 10,
   "metadata": {},
   "outputs": [
    {
     "data": {
      "text/html": [
       "<div>\n",
       "<style scoped>\n",
       "    .dataframe tbody tr th:only-of-type {\n",
       "        vertical-align: middle;\n",
       "    }\n",
       "\n",
       "    .dataframe tbody tr th {\n",
       "        vertical-align: top;\n",
       "    }\n",
       "\n",
       "    .dataframe thead th {\n",
       "        text-align: right;\n",
       "    }\n",
       "</style>\n",
       "<table border=\"1\" class=\"dataframe\">\n",
       "  <thead>\n",
       "    <tr style=\"text-align: right;\">\n",
       "      <th></th>\n",
       "      <th>date</th>\n",
       "      <th>date_block_num</th>\n",
       "      <th>shop_id</th>\n",
       "      <th>item_id</th>\n",
       "      <th>item_price</th>\n",
       "      <th>item_cnt_day</th>\n",
       "    </tr>\n",
       "  </thead>\n",
       "  <tbody>\n",
       "    <tr>\n",
       "      <th>484683</th>\n",
       "      <td>15.05.2013</td>\n",
       "      <td>4</td>\n",
       "      <td>32</td>\n",
       "      <td>2973</td>\n",
       "      <td>-1.0</td>\n",
       "      <td>1.0</td>\n",
       "    </tr>\n",
       "  </tbody>\n",
       "</table>\n",
       "</div>"
      ],
      "text/plain": [
       "              date  date_block_num  shop_id  item_id  item_price  item_cnt_day\n",
       "484683  15.05.2013               4       32     2973        -1.0           1.0"
      ]
     },
     "execution_count": 10,
     "metadata": {},
     "output_type": "execute_result"
    }
   ],
   "source": [
    "# There is an item with negative price.  Check its item_id and shop_id.\n",
    "sales[sales['item_price']<0]"
   ]
  },
  {
   "cell_type": "code",
   "execution_count": 11,
   "metadata": {},
   "outputs": [
    {
     "data": {
      "text/html": [
       "<div>\n",
       "<style scoped>\n",
       "    .dataframe tbody tr th:only-of-type {\n",
       "        vertical-align: middle;\n",
       "    }\n",
       "\n",
       "    .dataframe tbody tr th {\n",
       "        vertical-align: top;\n",
       "    }\n",
       "\n",
       "    .dataframe thead th {\n",
       "        text-align: right;\n",
       "    }\n",
       "</style>\n",
       "<table border=\"1\" class=\"dataframe\">\n",
       "  <thead>\n",
       "    <tr style=\"text-align: right;\">\n",
       "      <th></th>\n",
       "      <th>date</th>\n",
       "      <th>date_block_num</th>\n",
       "      <th>shop_id</th>\n",
       "      <th>item_id</th>\n",
       "      <th>item_price</th>\n",
       "      <th>item_cnt_day</th>\n",
       "    </tr>\n",
       "  </thead>\n",
       "  <tbody>\n",
       "    <tr>\n",
       "      <th>67427</th>\n",
       "      <td>29.01.2013</td>\n",
       "      <td>0</td>\n",
       "      <td>32</td>\n",
       "      <td>2973</td>\n",
       "      <td>2499.0</td>\n",
       "      <td>1.0</td>\n",
       "    </tr>\n",
       "    <tr>\n",
       "      <th>67428</th>\n",
       "      <td>25.01.2013</td>\n",
       "      <td>0</td>\n",
       "      <td>32</td>\n",
       "      <td>2973</td>\n",
       "      <td>2499.0</td>\n",
       "      <td>1.0</td>\n",
       "    </tr>\n",
       "    <tr>\n",
       "      <th>67429</th>\n",
       "      <td>22.01.2013</td>\n",
       "      <td>0</td>\n",
       "      <td>32</td>\n",
       "      <td>2973</td>\n",
       "      <td>2499.0</td>\n",
       "      <td>1.0</td>\n",
       "    </tr>\n",
       "    <tr>\n",
       "      <th>67430</th>\n",
       "      <td>21.01.2013</td>\n",
       "      <td>0</td>\n",
       "      <td>32</td>\n",
       "      <td>2973</td>\n",
       "      <td>2499.0</td>\n",
       "      <td>1.0</td>\n",
       "    </tr>\n",
       "    <tr>\n",
       "      <th>67431</th>\n",
       "      <td>18.01.2013</td>\n",
       "      <td>0</td>\n",
       "      <td>32</td>\n",
       "      <td>2973</td>\n",
       "      <td>2499.0</td>\n",
       "      <td>1.0</td>\n",
       "    </tr>\n",
       "    <tr>\n",
       "      <th>67432</th>\n",
       "      <td>17.01.2013</td>\n",
       "      <td>0</td>\n",
       "      <td>32</td>\n",
       "      <td>2973</td>\n",
       "      <td>2499.0</td>\n",
       "      <td>1.0</td>\n",
       "    </tr>\n",
       "    <tr>\n",
       "      <th>67433</th>\n",
       "      <td>15.01.2013</td>\n",
       "      <td>0</td>\n",
       "      <td>32</td>\n",
       "      <td>2973</td>\n",
       "      <td>2499.0</td>\n",
       "      <td>3.0</td>\n",
       "    </tr>\n",
       "    <tr>\n",
       "      <th>187844</th>\n",
       "      <td>05.02.2013</td>\n",
       "      <td>1</td>\n",
       "      <td>32</td>\n",
       "      <td>2973</td>\n",
       "      <td>2499.0</td>\n",
       "      <td>1.0</td>\n",
       "    </tr>\n",
       "    <tr>\n",
       "      <th>187845</th>\n",
       "      <td>14.02.2013</td>\n",
       "      <td>1</td>\n",
       "      <td>32</td>\n",
       "      <td>2973</td>\n",
       "      <td>2499.0</td>\n",
       "      <td>1.0</td>\n",
       "    </tr>\n",
       "    <tr>\n",
       "      <th>484682</th>\n",
       "      <td>23.05.2013</td>\n",
       "      <td>4</td>\n",
       "      <td>32</td>\n",
       "      <td>2973</td>\n",
       "      <td>1249.0</td>\n",
       "      <td>1.0</td>\n",
       "    </tr>\n",
       "    <tr>\n",
       "      <th>484683</th>\n",
       "      <td>15.05.2013</td>\n",
       "      <td>4</td>\n",
       "      <td>32</td>\n",
       "      <td>2973</td>\n",
       "      <td>-1.0</td>\n",
       "      <td>1.0</td>\n",
       "    </tr>\n",
       "    <tr>\n",
       "      <th>484684</th>\n",
       "      <td>06.05.2013</td>\n",
       "      <td>4</td>\n",
       "      <td>32</td>\n",
       "      <td>2973</td>\n",
       "      <td>2499.0</td>\n",
       "      <td>1.0</td>\n",
       "    </tr>\n",
       "    <tr>\n",
       "      <th>555026</th>\n",
       "      <td>05.06.2013</td>\n",
       "      <td>5</td>\n",
       "      <td>32</td>\n",
       "      <td>2973</td>\n",
       "      <td>1249.5</td>\n",
       "      <td>1.0</td>\n",
       "    </tr>\n",
       "  </tbody>\n",
       "</table>\n",
       "</div>"
      ],
      "text/plain": [
       "              date  date_block_num  shop_id  item_id  item_price  item_cnt_day\n",
       "67427   29.01.2013               0       32     2973      2499.0           1.0\n",
       "67428   25.01.2013               0       32     2973      2499.0           1.0\n",
       "67429   22.01.2013               0       32     2973      2499.0           1.0\n",
       "67430   21.01.2013               0       32     2973      2499.0           1.0\n",
       "67431   18.01.2013               0       32     2973      2499.0           1.0\n",
       "67432   17.01.2013               0       32     2973      2499.0           1.0\n",
       "67433   15.01.2013               0       32     2973      2499.0           3.0\n",
       "187844  05.02.2013               1       32     2973      2499.0           1.0\n",
       "187845  14.02.2013               1       32     2973      2499.0           1.0\n",
       "484682  23.05.2013               4       32     2973      1249.0           1.0\n",
       "484683  15.05.2013               4       32     2973        -1.0           1.0\n",
       "484684  06.05.2013               4       32     2973      2499.0           1.0\n",
       "555026  05.06.2013               5       32     2973      1249.5           1.0"
      ]
     },
     "execution_count": 11,
     "metadata": {},
     "output_type": "execute_result"
    }
   ],
   "source": [
    "sales[(sales['shop_id']==32) & (sales['item_id']==2973)]"
   ]
  },
  {
   "cell_type": "code",
   "execution_count": 12,
   "metadata": {},
   "outputs": [
    {
     "name": "stderr",
     "output_type": "stream",
     "text": [
      "/opt/anaconda3/lib/python3.7/site-packages/pandas/core/indexing.py:965: SettingWithCopyWarning: \n",
      "A value is trying to be set on a copy of a slice from a DataFrame.\n",
      "Try using .loc[row_indexer,col_indexer] = value instead\n",
      "\n",
      "See the caveats in the documentation: https://pandas.pydata.org/pandas-docs/stable/user_guide/indexing.html#returning-a-view-versus-a-copy\n",
      "  self.obj[item] = s\n"
     ]
    }
   ],
   "source": [
    "# Replace the negative price with average price of the item in that shop during the same month.\n",
    "sel = (sales['shop_id']==32) & (sales['item_id']==2973) & (sales['date_block_num']==4) & (sales['item_price']>0)\n",
    "sales.loc[sales['item_price']<0, 'item_price'] = sales.loc[sel, 'item_price'].mean()"
   ]
  },
  {
   "cell_type": "code",
   "execution_count": 13,
   "metadata": {},
   "outputs": [
    {
     "name": "stdout",
     "output_type": "stream",
     "text": [
      "60\n",
      "21806\n",
      "0\n",
      "363\n"
     ]
    }
   ],
   "source": [
    "# Check train and test shop_id and item_id distributions.\n",
    "train_shop_id = sales['shop_id'].unique()\n",
    "train_item_id = sales['item_id'].unique()\n",
    "test_shop_id = test['shop_id'].unique()\n",
    "test_item_id = test['item_id'].unique()\n",
    "print(len(train_shop_id)) #60\n",
    "print(len(train_item_id)) #21806\n",
    "print(len(np.setdiff1d(test_shop_id, train_shop_id)))\n",
    "print(len(np.setdiff1d(test_item_id, train_item_id)))\n",
    "# There are 363 new items in the test set that are not in training set."
   ]
  },
  {
   "cell_type": "code",
   "execution_count": 14,
   "metadata": {},
   "outputs": [
    {
     "data": {
      "text/plain": [
       "5100    42\n",
       "dtype: int64"
      ]
     },
     "execution_count": 14,
     "metadata": {},
     "output_type": "execute_result"
    }
   ],
   "source": [
    "# Different shops have the same number of items in the test set.\n",
    "test.groupby('shop_id').size().value_counts()"
   ]
  },
  {
   "cell_type": "code",
   "execution_count": 15,
   "metadata": {},
   "outputs": [
    {
     "data": {
      "text/plain": [
       "42    5100\n",
       "dtype: int64"
      ]
     },
     "execution_count": 15,
     "metadata": {},
     "output_type": "execute_result"
    }
   ],
   "source": [
    "# Each item is listed in all shops in the test set.\n",
    "test.groupby('item_id').size().value_counts()"
   ]
  },
  {
   "cell_type": "code",
   "execution_count": 16,
   "metadata": {},
   "outputs": [
    {
     "data": {
      "text/plain": [
       "(42, 5100)"
      ]
     },
     "execution_count": 16,
     "metadata": {},
     "output_type": "execute_result"
    }
   ],
   "source": [
    "# Indeed, test set consists of a grid of shop_id x item_id\n",
    "test['shop_id'].nunique(), test['item_id'].nunique()"
   ]
  },
  {
   "cell_type": "markdown",
   "metadata": {},
   "source": [
    "# Grid Construction and Monthly Training Data Aggregation"
   ]
  },
  {
   "cell_type": "code",
   "execution_count": 17,
   "metadata": {},
   "outputs": [],
   "source": [
    "# Add category ID.\n",
    "item_category_mapping = items[['item_id','item_category_id']].drop_duplicates()\n",
    "sales = pd.merge(sales, item_category_mapping, on=['item_id'], how='left')"
   ]
  },
  {
   "cell_type": "code",
   "execution_count": 18,
   "metadata": {},
   "outputs": [],
   "source": [
    "index_cols = ['shop_id', 'item_id', 'date_block_num']\n",
    "\n",
    "# For every month we create a grid from all shops/items combinations from that month.\n",
    "grid = [] \n",
    "for block_num in sales['date_block_num'].unique():\n",
    "    cur_shops = sales[sales['date_block_num']==block_num]['shop_id'].unique()\n",
    "    cur_items = sales[sales['date_block_num']==block_num]['item_id'].unique()\n",
    "    grid.append(np.array(list(product(*[cur_shops, cur_items, [block_num]])), dtype='int32'))\n",
    "\n",
    "# Turn the grid into pandas dataframe.\n",
    "grid = pd.DataFrame(np.vstack(grid), columns=index_cols, dtype=np.int32)\n",
    "\n",
    "# Get aggregated values for (shop_id, item_id, month).\n",
    "sales_month = sales.groupby(index_cols, as_index=False).agg({'item_price':np.mean, 'item_cnt_day':np.sum})\n",
    "# Fix column name.\n",
    "sales_month.columns = ['shop_id', 'item_id', 'date_block_num', 'avg_item_price', 'target']\n",
    "# Join aggregated data to the grid.\n",
    "train = pd.merge(grid, sales_month, how='left', on=index_cols).fillna(0)\n",
    "\n",
    "# Get aggregated values for (shop_id, month).\n",
    "sales_month = sales.groupby(['shop_id', 'date_block_num'], as_index=False).agg({'item_cnt_day':np.sum})\n",
    "sales_month.columns = ['shop_id', 'date_block_num', 'target_shop']\n",
    "train = pd.merge(train, sales_month, how='left', on=['shop_id', 'date_block_num']).fillna(0)\n",
    "\n",
    "# Get aggregated values for (item_id, month).\n",
    "sales_month = sales.groupby(['item_id', 'date_block_num'], as_index=False).agg({'item_cnt_day':np.sum})\n",
    "sales_month.columns = ['item_id', 'date_block_num', 'target_item']\n",
    "train = pd.merge(train, sales_month, how='left', on=['item_id', 'date_block_num']).fillna(0)\n",
    "\n",
    "# Get aggregated values for (item_category_id, month).\n",
    "sales_month = sales.groupby(['item_category_id', 'date_block_num'], as_index=False).agg({'item_cnt_day':np.sum})\n",
    "sales_month.columns = ['item_category_id', 'date_block_num', 'target_item_category']\n",
    "train = pd.merge(train, item_category_mapping, how='left', on=['item_id']).fillna(0)\n",
    "train = pd.merge(train, sales_month, how='left', on=['item_category_id', 'date_block_num']).fillna(0)\n",
    "\n",
    "# In addition, clip response to [0, 20].\n",
    "train['target'] = train['target'].clip(0,20)\n",
    "# Sort the data.\n",
    "train.sort_values(['date_block_num', 'shop_id', 'item_id'], inplace=True)\n",
    "# Reset index.\n",
    "train.reset_index(drop=True, inplace=True)"
   ]
  },
  {
   "cell_type": "code",
   "execution_count": 19,
   "metadata": {},
   "outputs": [
    {
     "data": {
      "text/plain": [
       "37"
      ]
     },
     "execution_count": 19,
     "metadata": {},
     "output_type": "execute_result"
    }
   ],
   "source": [
    "# Down casting.\n",
    "train['shop_id'] = train['shop_id'].astype(np.int8)\n",
    "train['item_id'] = train['item_id'].astype(np.int16)\n",
    "train['date_block_num'] = train['date_block_num'].astype(np.int8)\n",
    "train['item_category_id'] = train['item_category_id'].astype(np.int8)\n",
    "for x in ['avg_item_price', 'target', 'target_shop', 'target_item', 'target_item_category']:\n",
    "    train[x] = train[x].astype(np.float32)\n",
    "\n",
    "del grid, sales_month \n",
    "gc.collect()"
   ]
  },
  {
   "cell_type": "code",
   "execution_count": 20,
   "metadata": {},
   "outputs": [
    {
     "data": {
      "text/html": [
       "<div>\n",
       "<style scoped>\n",
       "    .dataframe tbody tr th:only-of-type {\n",
       "        vertical-align: middle;\n",
       "    }\n",
       "\n",
       "    .dataframe tbody tr th {\n",
       "        vertical-align: top;\n",
       "    }\n",
       "\n",
       "    .dataframe thead th {\n",
       "        text-align: right;\n",
       "    }\n",
       "</style>\n",
       "<table border=\"1\" class=\"dataframe\">\n",
       "  <thead>\n",
       "    <tr style=\"text-align: right;\">\n",
       "      <th></th>\n",
       "      <th>shop_id</th>\n",
       "      <th>item_id</th>\n",
       "      <th>date_block_num</th>\n",
       "      <th>avg_item_price</th>\n",
       "      <th>target</th>\n",
       "      <th>target_shop</th>\n",
       "      <th>target_item</th>\n",
       "      <th>item_category_id</th>\n",
       "      <th>target_item_category</th>\n",
       "    </tr>\n",
       "  </thead>\n",
       "  <tbody>\n",
       "    <tr>\n",
       "      <th>0</th>\n",
       "      <td>0</td>\n",
       "      <td>19</td>\n",
       "      <td>0</td>\n",
       "      <td>0.0</td>\n",
       "      <td>0.0</td>\n",
       "      <td>5578.0</td>\n",
       "      <td>1.0</td>\n",
       "      <td>40</td>\n",
       "      <td>33489.0</td>\n",
       "    </tr>\n",
       "    <tr>\n",
       "      <th>1</th>\n",
       "      <td>0</td>\n",
       "      <td>27</td>\n",
       "      <td>0</td>\n",
       "      <td>0.0</td>\n",
       "      <td>0.0</td>\n",
       "      <td>5578.0</td>\n",
       "      <td>7.0</td>\n",
       "      <td>19</td>\n",
       "      <td>8983.0</td>\n",
       "    </tr>\n",
       "    <tr>\n",
       "      <th>2</th>\n",
       "      <td>0</td>\n",
       "      <td>28</td>\n",
       "      <td>0</td>\n",
       "      <td>0.0</td>\n",
       "      <td>0.0</td>\n",
       "      <td>5578.0</td>\n",
       "      <td>8.0</td>\n",
       "      <td>30</td>\n",
       "      <td>22216.0</td>\n",
       "    </tr>\n",
       "    <tr>\n",
       "      <th>3</th>\n",
       "      <td>0</td>\n",
       "      <td>29</td>\n",
       "      <td>0</td>\n",
       "      <td>0.0</td>\n",
       "      <td>0.0</td>\n",
       "      <td>5578.0</td>\n",
       "      <td>4.0</td>\n",
       "      <td>23</td>\n",
       "      <td>4150.0</td>\n",
       "    </tr>\n",
       "    <tr>\n",
       "      <th>4</th>\n",
       "      <td>0</td>\n",
       "      <td>32</td>\n",
       "      <td>0</td>\n",
       "      <td>221.0</td>\n",
       "      <td>6.0</td>\n",
       "      <td>5578.0</td>\n",
       "      <td>299.0</td>\n",
       "      <td>40</td>\n",
       "      <td>33489.0</td>\n",
       "    </tr>\n",
       "  </tbody>\n",
       "</table>\n",
       "</div>"
      ],
      "text/plain": [
       "   shop_id  item_id  date_block_num  avg_item_price  target  target_shop  \\\n",
       "0        0       19               0             0.0     0.0       5578.0   \n",
       "1        0       27               0             0.0     0.0       5578.0   \n",
       "2        0       28               0             0.0     0.0       5578.0   \n",
       "3        0       29               0             0.0     0.0       5578.0   \n",
       "4        0       32               0           221.0     6.0       5578.0   \n",
       "\n",
       "   target_item  item_category_id  target_item_category  \n",
       "0          1.0                40               33489.0  \n",
       "1          7.0                19                8983.0  \n",
       "2          8.0                30               22216.0  \n",
       "3          4.0                23                4150.0  \n",
       "4        299.0                40               33489.0  "
      ]
     },
     "execution_count": 20,
     "metadata": {},
     "output_type": "execute_result"
    }
   ],
   "source": [
    "train.head()"
   ]
  },
  {
   "cell_type": "code",
   "execution_count": 21,
   "metadata": {},
   "outputs": [
    {
     "data": {
      "text/plain": [
       "<matplotlib.axes._subplots.AxesSubplot at 0x1a30e89950>"
      ]
     },
     "execution_count": 21,
     "metadata": {},
     "output_type": "execute_result"
    },
    {
     "data": {
      "image/png": "[encoded data removed]",
      "text/plain": [
       "<Figure size 432x288 with 1 Axes>"
      ]
     },
     "metadata": {
      "needs_background": "light"
     },
     "output_type": "display_data"
    }
   ],
   "source": [
    "# Visualize target distribution.  It's very skewed.\n",
    "train['target'].hist(bins=20)"
   ]
  },
  {
   "cell_type": "code",
   "execution_count": 22,
   "metadata": {},
   "outputs": [
    {
     "data": {
      "text/plain": [
       "<matplotlib.axes._subplots.AxesSubplot at 0x1a1cbca150>"
      ]
     },
     "execution_count": 22,
     "metadata": {},
     "output_type": "execute_result"
    },
    {
     "data": {
      "image/png": "[encoded data removed]",
      "text/plain": [
       "<Figure size 432x288 with 1 Axes>"
      ]
     },
     "metadata": {
      "needs_background": "light"
     },
     "output_type": "display_data"
    }
   ],
   "source": [
    "# Visualize target distribution after log-transformation.  It's still quite skewed.\n",
    "np.log(1+train['target']).hist(bins=20)"
   ]
  },
  {
   "cell_type": "code",
   "execution_count": 23,
   "metadata": {},
   "outputs": [
    {
     "data": {
      "text/plain": [
       "<matplotlib.lines.Line2D at 0x1a169e0910>"
      ]
     },
     "execution_count": 23,
     "metadata": {},
     "output_type": "execute_result"
    },
    {
     "data": {
      "image/png": "[encoded data removed]",
      "text/plain": [
       "<Figure size 1080x432 with 1 Axes>"
      ]
     },
     "metadata": {
      "needs_background": "light"
     },
     "output_type": "display_data"
    }
   ],
   "source": [
    "# How does average monthly item counts (aggregated over all shops and items) change over time?\n",
    "fig = plt.figure(figsize=(15, 6))\n",
    "sns.lineplot(x='date_block_num', y='target', data=train.groupby('date_block_num', as_index=False)['target'].mean())\n",
    "plt.axvline(12, ls='--', color='r')\n",
    "plt.axvline(24, ls='--', color='r')"
   ]
  },
  {
   "cell_type": "code",
   "execution_count": 24,
   "metadata": {},
   "outputs": [
    {
     "data": {
      "text/plain": [
       "<matplotlib.lines.Line2D at 0x1a18ac3210>"
      ]
     },
     "execution_count": 24,
     "metadata": {},
     "output_type": "execute_result"
    },
    {
     "data": {
      "image/png": "[encoded data removed]",
      "text/plain": [
       "<Figure size 1440x576 with 1 Axes>"
      ]
     },
     "metadata": {
      "needs_background": "light"
     },
     "output_type": "display_data"
    }
   ],
   "source": [
    "# How does average monthly item counts for each shop (aggregated over all items) change over time?\n",
    "fig = plt.figure(figsize=(20, 8))\n",
    "sns.lineplot(x='date_block_num', y='target', units='shop_id', estimator=None, lw=1,\n",
    "             data=train.groupby(['date_block_num', 'shop_id'], as_index=False)['target'].mean())\n",
    "sns.lineplot(x='date_block_num', y='target', data=train.groupby('date_block_num', as_index=False)['target'].mean(), color='red')\n",
    "plt.axvline(12, ls='--', color='gray')\n",
    "plt.axvline(24, ls='--', color='gray')\n",
    "plt.axhline(0.25, ls='--', color='yellow')\n",
    "plt.axhline(0.4, ls='--', color='yellow')"
   ]
  },
  {
   "cell_type": "code",
   "execution_count": 25,
   "metadata": {},
   "outputs": [],
   "source": [
    "# Store raw training data.\n",
    "train.to_csv(os.path.join(DATA_FOLDER, 'grid_train.csv'))"
   ]
  },
  {
   "cell_type": "markdown",
   "metadata": {},
   "source": [
    "# Concatenate Training and Test Data"
   ]
  },
  {
   "cell_type": "code",
   "execution_count": 26,
   "metadata": {},
   "outputs": [
    {
     "name": "stderr",
     "output_type": "stream",
     "text": [
      "/opt/anaconda3/lib/python3.7/site-packages/numpy/lib/arraysetops.py:569: FutureWarning: elementwise comparison failed; returning scalar instead, but in the future will perform elementwise comparison\n",
      "  mask |= (ar1 == a)\n"
     ]
    }
   ],
   "source": [
    "train = pd.read_csv(os.path.join(DATA_FOLDER, 'grid_train.csv'), index_col=0)\n",
    "# Down casting.\n",
    "train['shop_id'] = train['shop_id'].astype(np.int8)\n",
    "train['item_id'] = train['item_id'].astype(np.int16)\n",
    "train['date_block_num'] = train['date_block_num'].astype(np.int8)\n",
    "train['item_category_id'] = train['item_category_id'].astype(np.int8)\n",
    "for x in ['avg_item_price', 'target', 'target_shop', 'target_item', 'target_item_category']:\n",
    "    train[x] = train[x].astype(np.float32)"
   ]
  },
  {
   "cell_type": "code",
   "execution_count": 27,
   "metadata": {},
   "outputs": [],
   "source": [
    "test = pd.read_csv(os.path.join(DATA_FOLDER, 'test.csv')) #214200 x 3\n",
    "test = test.set_index('ID')\n",
    "test['shop_id'] = test['shop_id'].astype(np.int8)\n",
    "test['item_id'] = test['item_id'].astype(np.int16)\n",
    "test['date_block_num'] = 34\n",
    "test['date_block_num'] = test['date_block_num'].astype(np.int8)\n",
    "# Add category ID.\n",
    "test = pd.merge(test, item_category_mapping, on=['item_id'], how='left')\n",
    "test['item_category_id'] = test['item_category_id'].astype(np.int8)"
   ]
  },
  {
   "cell_type": "code",
   "execution_count": 28,
   "metadata": {},
   "outputs": [],
   "source": [
    "train_test = pd.concat([train, test], ignore_index=True, sort=False, keys=['shop_id', 'item_id', 'date_block_num'])"
   ]
  },
  {
   "cell_type": "code",
   "execution_count": 29,
   "metadata": {},
   "outputs": [
    {
     "data": {
      "text/html": [
       "<div>\n",
       "<style scoped>\n",
       "    .dataframe tbody tr th:only-of-type {\n",
       "        vertical-align: middle;\n",
       "    }\n",
       "\n",
       "    .dataframe tbody tr th {\n",
       "        vertical-align: top;\n",
       "    }\n",
       "\n",
       "    .dataframe thead th {\n",
       "        text-align: right;\n",
       "    }\n",
       "</style>\n",
       "<table border=\"1\" class=\"dataframe\">\n",
       "  <thead>\n",
       "    <tr style=\"text-align: right;\">\n",
       "      <th></th>\n",
       "      <th>shop_id</th>\n",
       "      <th>item_id</th>\n",
       "      <th>date_block_num</th>\n",
       "      <th>avg_item_price</th>\n",
       "      <th>target</th>\n",
       "      <th>target_shop</th>\n",
       "      <th>target_item</th>\n",
       "      <th>item_category_id</th>\n",
       "      <th>target_item_category</th>\n",
       "    </tr>\n",
       "  </thead>\n",
       "  <tbody>\n",
       "    <tr>\n",
       "      <th>0</th>\n",
       "      <td>0</td>\n",
       "      <td>19</td>\n",
       "      <td>0</td>\n",
       "      <td>0.0</td>\n",
       "      <td>0.0</td>\n",
       "      <td>5578.0</td>\n",
       "      <td>1.0</td>\n",
       "      <td>40</td>\n",
       "      <td>33489.0</td>\n",
       "    </tr>\n",
       "    <tr>\n",
       "      <th>1</th>\n",
       "      <td>0</td>\n",
       "      <td>27</td>\n",
       "      <td>0</td>\n",
       "      <td>0.0</td>\n",
       "      <td>0.0</td>\n",
       "      <td>5578.0</td>\n",
       "      <td>7.0</td>\n",
       "      <td>19</td>\n",
       "      <td>8983.0</td>\n",
       "    </tr>\n",
       "    <tr>\n",
       "      <th>2</th>\n",
       "      <td>0</td>\n",
       "      <td>28</td>\n",
       "      <td>0</td>\n",
       "      <td>0.0</td>\n",
       "      <td>0.0</td>\n",
       "      <td>5578.0</td>\n",
       "      <td>8.0</td>\n",
       "      <td>30</td>\n",
       "      <td>22216.0</td>\n",
       "    </tr>\n",
       "    <tr>\n",
       "      <th>3</th>\n",
       "      <td>0</td>\n",
       "      <td>29</td>\n",
       "      <td>0</td>\n",
       "      <td>0.0</td>\n",
       "      <td>0.0</td>\n",
       "      <td>5578.0</td>\n",
       "      <td>4.0</td>\n",
       "      <td>23</td>\n",
       "      <td>4150.0</td>\n",
       "    </tr>\n",
       "    <tr>\n",
       "      <th>4</th>\n",
       "      <td>0</td>\n",
       "      <td>32</td>\n",
       "      <td>0</td>\n",
       "      <td>221.0</td>\n",
       "      <td>6.0</td>\n",
       "      <td>5578.0</td>\n",
       "      <td>299.0</td>\n",
       "      <td>40</td>\n",
       "      <td>33489.0</td>\n",
       "    </tr>\n",
       "  </tbody>\n",
       "</table>\n",
       "</div>"
      ],
      "text/plain": [
       "   shop_id  item_id  date_block_num  avg_item_price  target  target_shop  \\\n",
       "0        0       19               0             0.0     0.0       5578.0   \n",
       "1        0       27               0             0.0     0.0       5578.0   \n",
       "2        0       28               0             0.0     0.0       5578.0   \n",
       "3        0       29               0             0.0     0.0       5578.0   \n",
       "4        0       32               0           221.0     6.0       5578.0   \n",
       "\n",
       "   target_item  item_category_id  target_item_category  \n",
       "0          1.0                40               33489.0  \n",
       "1          7.0                19                8983.0  \n",
       "2          8.0                30               22216.0  \n",
       "3          4.0                23                4150.0  \n",
       "4        299.0                40               33489.0  "
      ]
     },
     "execution_count": 29,
     "metadata": {},
     "output_type": "execute_result"
    }
   ],
   "source": [
    "train_test.head()"
   ]
  },
  {
   "cell_type": "code",
   "execution_count": 30,
   "metadata": {},
   "outputs": [
    {
     "data": {
      "text/html": [
       "<div>\n",
       "<style scoped>\n",
       "    .dataframe tbody tr th:only-of-type {\n",
       "        vertical-align: middle;\n",
       "    }\n",
       "\n",
       "    .dataframe tbody tr th {\n",
       "        vertical-align: top;\n",
       "    }\n",
       "\n",
       "    .dataframe thead th {\n",
       "        text-align: right;\n",
       "    }\n",
       "</style>\n",
       "<table border=\"1\" class=\"dataframe\">\n",
       "  <thead>\n",
       "    <tr style=\"text-align: right;\">\n",
       "      <th></th>\n",
       "      <th>shop_id</th>\n",
       "      <th>item_id</th>\n",
       "      <th>date_block_num</th>\n",
       "      <th>avg_item_price</th>\n",
       "      <th>target</th>\n",
       "      <th>target_shop</th>\n",
       "      <th>target_item</th>\n",
       "      <th>item_category_id</th>\n",
       "      <th>target_item_category</th>\n",
       "    </tr>\n",
       "  </thead>\n",
       "  <tbody>\n",
       "    <tr>\n",
       "      <th>11127999</th>\n",
       "      <td>45</td>\n",
       "      <td>18454</td>\n",
       "      <td>34</td>\n",
       "      <td>NaN</td>\n",
       "      <td>NaN</td>\n",
       "      <td>NaN</td>\n",
       "      <td>NaN</td>\n",
       "      <td>55</td>\n",
       "      <td>NaN</td>\n",
       "    </tr>\n",
       "    <tr>\n",
       "      <th>11128000</th>\n",
       "      <td>45</td>\n",
       "      <td>16188</td>\n",
       "      <td>34</td>\n",
       "      <td>NaN</td>\n",
       "      <td>NaN</td>\n",
       "      <td>NaN</td>\n",
       "      <td>NaN</td>\n",
       "      <td>64</td>\n",
       "      <td>NaN</td>\n",
       "    </tr>\n",
       "    <tr>\n",
       "      <th>11128001</th>\n",
       "      <td>45</td>\n",
       "      <td>15757</td>\n",
       "      <td>34</td>\n",
       "      <td>NaN</td>\n",
       "      <td>NaN</td>\n",
       "      <td>NaN</td>\n",
       "      <td>NaN</td>\n",
       "      <td>55</td>\n",
       "      <td>NaN</td>\n",
       "    </tr>\n",
       "    <tr>\n",
       "      <th>11128002</th>\n",
       "      <td>45</td>\n",
       "      <td>19648</td>\n",
       "      <td>34</td>\n",
       "      <td>NaN</td>\n",
       "      <td>NaN</td>\n",
       "      <td>NaN</td>\n",
       "      <td>NaN</td>\n",
       "      <td>40</td>\n",
       "      <td>NaN</td>\n",
       "    </tr>\n",
       "    <tr>\n",
       "      <th>11128003</th>\n",
       "      <td>45</td>\n",
       "      <td>969</td>\n",
       "      <td>34</td>\n",
       "      <td>NaN</td>\n",
       "      <td>NaN</td>\n",
       "      <td>NaN</td>\n",
       "      <td>NaN</td>\n",
       "      <td>37</td>\n",
       "      <td>NaN</td>\n",
       "    </tr>\n",
       "  </tbody>\n",
       "</table>\n",
       "</div>"
      ],
      "text/plain": [
       "          shop_id  item_id  date_block_num  avg_item_price  target  \\\n",
       "11127999       45    18454              34             NaN     NaN   \n",
       "11128000       45    16188              34             NaN     NaN   \n",
       "11128001       45    15757              34             NaN     NaN   \n",
       "11128002       45    19648              34             NaN     NaN   \n",
       "11128003       45      969              34             NaN     NaN   \n",
       "\n",
       "          target_shop  target_item  item_category_id  target_item_category  \n",
       "11127999          NaN          NaN                55                   NaN  \n",
       "11128000          NaN          NaN                64                   NaN  \n",
       "11128001          NaN          NaN                55                   NaN  \n",
       "11128002          NaN          NaN                40                   NaN  \n",
       "11128003          NaN          NaN                37                   NaN  "
      ]
     },
     "execution_count": 30,
     "metadata": {},
     "output_type": "execute_result"
    }
   ],
   "source": [
    "train_test.tail()"
   ]
  },
  {
   "cell_type": "code",
   "execution_count": 31,
   "metadata": {},
   "outputs": [
    {
     "data": {
      "text/plain": [
       "((11128004, 9), (10913804, 9), (214200, 4))"
      ]
     },
     "execution_count": 31,
     "metadata": {},
     "output_type": "execute_result"
    }
   ],
   "source": [
    "train_test.shape, train.shape, test.shape"
   ]
  },
  {
   "cell_type": "code",
   "execution_count": 32,
   "metadata": {},
   "outputs": [
    {
     "data": {
      "text/plain": [
       "shop_id                      0\n",
       "item_id                      0\n",
       "date_block_num               0\n",
       "avg_item_price          214200\n",
       "target                  214200\n",
       "target_shop             214200\n",
       "target_item             214200\n",
       "item_category_id             0\n",
       "target_item_category    214200\n",
       "dtype: int64"
      ]
     },
     "execution_count": 32,
     "metadata": {},
     "output_type": "execute_result"
    }
   ],
   "source": [
    "# We have NAs in 'avg_item_price', 'target', 'target_shop', 'target_item' and 'target_item_category'for test set, \n",
    "# as expected.\n",
    "train_test.isnull().sum(axis=0)"
   ]
  },
  {
   "cell_type": "code",
   "execution_count": 33,
   "metadata": {},
   "outputs": [
    {
     "name": "stdout",
     "output_type": "stream",
     "text": [
      "<class 'pandas.core.frame.DataFrame'>\n",
      "RangeIndex: 11128004 entries, 0 to 11128003\n",
      "Data columns (total 9 columns):\n",
      " #   Column                Dtype  \n",
      "---  ------                -----  \n",
      " 0   shop_id               int8   \n",
      " 1   item_id               int16  \n",
      " 2   date_block_num        int8   \n",
      " 3   avg_item_price        float32\n",
      " 4   target                float32\n",
      " 5   target_shop           float32\n",
      " 6   target_item           float32\n",
      " 7   item_category_id      int8   \n",
      " 8   target_item_category  float32\n",
      "dtypes: float32(5), int16(1), int8(3)\n",
      "memory usage: 265.3 MB\n"
     ]
    }
   ],
   "source": [
    "train_test.info()"
   ]
  },
  {
   "cell_type": "markdown",
   "metadata": {},
   "source": [
    "# Features Generation"
   ]
  },
  {
   "cell_type": "markdown",
   "metadata": {},
   "source": [
    "### Lagged Features"
   ]
  },
  {
   "cell_type": "code",
   "execution_count": 34,
   "metadata": {},
   "outputs": [],
   "source": [
    "# Add lagged features.\n",
    "def lag_feature(df, lags, cols_to_rename):\n",
    "    index_cols = ['shop_id', 'item_id', 'date_block_num']\n",
    "    for i in tqdm_notebook(lags):\n",
    "        g = df[index_cols+cols_to_rename].copy()\n",
    "        g['date_block_num'] += i\n",
    "        renames = lambda x: '{}_lag_{}'.format(x, i) if x in cols_to_rename else x\n",
    "        g = g.rename(columns=renames)\n",
    "        df = pd.merge(df, g, on=index_cols, how='left').fillna(0)\n",
    "        print(i)\n",
    "    return df"
   ]
  },
  {
   "cell_type": "code",
   "execution_count": 35,
   "metadata": {},
   "outputs": [
    {
     "name": "stderr",
     "output_type": "stream",
     "text": [
      "/opt/anaconda3/lib/python3.7/site-packages/ipykernel_launcher.py:4: TqdmDeprecationWarning: This function will be removed in tqdm==5.0.0\n",
      "Please use `tqdm.notebook.tqdm` instead of `tqdm.tqdm_notebook`\n",
      "  after removing the cwd from sys.path.\n"
     ]
    },
    {
     "data": {
      "application/vnd.jupyter.widget-view+json": {
       "model_id": "a53a2bb7d92042ee9f1e43270b99ba89",
       "version_major": 2,
       "version_minor": 0
      },
      "text/plain": [
       "HBox(children=(FloatProgress(value=0.0, max=7.0), HTML(value='')))"
      ]
     },
     "metadata": {},
     "output_type": "display_data"
    },
    {
     "name": "stdout",
     "output_type": "stream",
     "text": [
      "1\n",
      "2\n",
      "3\n",
      "4\n",
      "5\n",
      "6\n",
      "12\n",
      "\n"
     ]
    }
   ],
   "source": [
    "cols_to_rename = ['avg_item_price', 'target', 'target_shop', 'target_item', 'target_item_category']\n",
    "train_test = lag_feature(train_test, lags=[1,2,3,4,5,6,12], cols_to_rename=cols_to_rename)"
   ]
  },
  {
   "cell_type": "markdown",
   "metadata": {},
   "source": [
    "### Time"
   ]
  },
  {
   "cell_type": "code",
   "execution_count": 36,
   "metadata": {},
   "outputs": [],
   "source": [
    "train_test['month'] = (train_test['date_block_num']+1)%12"
   ]
  },
  {
   "cell_type": "markdown",
   "metadata": {},
   "source": [
    "### Mean Encoding"
   ]
  },
  {
   "cell_type": "code",
   "execution_count": 37,
   "metadata": {},
   "outputs": [],
   "source": [
    "train_df = train_test.query('date_block_num < 34').copy()\n",
    "test_df = train_test.query('date_block_num == 34').copy()"
   ]
  },
  {
   "cell_type": "code",
   "execution_count": 38,
   "metadata": {},
   "outputs": [],
   "source": [
    "# Regularized approach using expanding mean encoding: applied to training set.\n",
    "alpha = 100\n",
    "global_mean = train_df['target'].mean()\n",
    "# Shop mean.\n",
    "cum_sum = train_df.groupby('shop_id')['target'].cumsum() - train_df['target']\n",
    "cum_count = train_df.groupby('shop_id').cumcount()\n",
    "train_df['shop_mean'] = (cum_sum + alpha*global_mean) / (cum_count + alpha)\n",
    "train_df['shop_mean'].fillna(global_mean, inplace=True)\n",
    "# Item mean.\n",
    "cum_sum = train_df.groupby('item_id')['target'].cumsum() - train_df['target']\n",
    "cum_count = train_df.groupby('item_id').cumcount()\n",
    "train_df['item_mean'] = (cum_sum + alpha*global_mean) / (cum_count + alpha)\n",
    "train_df['item_mean'].fillna(global_mean, inplace=True)\n",
    "# Shop x item mean.\n",
    "cum_sum = train_df.groupby(['shop_id', 'item_id'])['target'].cumsum() - train_df['target']\n",
    "cum_count = train_df.groupby(['shop_id', 'item_id']).cumcount()\n",
    "train_df['shop_item_mean'] = (cum_sum + alpha*global_mean) / (cum_count + alpha)\n",
    "train_df['shop_item_mean'].fillna(global_mean, inplace=True)\n",
    "# Item category mean.\n",
    "cum_sum = train_df.groupby('item_category_id')['target'].cumsum() - train_df['target']\n",
    "cum_count = train_df.groupby('item_category_id').cumcount()\n",
    "train_df['item_category_mean'] = (cum_sum + alpha*global_mean) / (cum_count + alpha)\n",
    "train_df['item_category_mean'].fillna(global_mean, inplace=True)"
   ]
  },
  {
   "cell_type": "code",
   "execution_count": 39,
   "metadata": {},
   "outputs": [],
   "source": [
    "# Naive approach: applied to test sets only.\n",
    "# Shop mean.\n",
    "gp_shop = train_df.groupby(['shop_id'])['target'].agg(['mean', 'size'])\n",
    "gp_shop_mean = ((gp_shop['size']*gp_shop['mean'] + alpha*global_mean) / (gp_shop['size'] + alpha)).reset_index()\n",
    "gp_shop_mean.columns = ['shop_id', 'shop_mean']\n",
    "# Item mean.\n",
    "gp_item = train_df.groupby(['item_id'])['target'].agg(['mean', 'size'])\n",
    "gp_item_mean = ((gp_item['size']*gp_item['mean'] + alpha*global_mean) / (gp_item['size'] + alpha)).reset_index()\n",
    "gp_item_mean.columns = ['item_id', 'item_mean']\n",
    "# Shop x item mean.\n",
    "gp_shop_item = train_df.groupby(['shop_id', 'item_id'])['target'].agg(['mean', 'size'])\n",
    "gp_shop_item_mean = ((gp_shop_item['size']*gp_shop_item['mean'] + alpha*global_mean) / (gp_shop_item['size'] + alpha)).reset_index()\n",
    "gp_shop_item_mean.columns = ['shop_id', 'item_id', 'shop_item_mean']\n",
    "# Item category mean.\n",
    "gp_item_cat = train_df.groupby(['item_category_id'])['target'].agg(['mean', 'size'])\n",
    "gp_item_cat_mean = ((gp_item_cat['size']*gp_item_cat['mean'] + alpha*global_mean) / (gp_item_cat['size'] + alpha)).reset_index()\n",
    "gp_item_cat_mean.columns = ['item_category_id', 'item_category_mean']\n",
    "\n",
    "# Add target encoded features to test set.\n",
    "test_df = pd.merge(test_df, gp_shop_mean, on=['shop_id'], how='left')\n",
    "test_df = pd.merge(test_df, gp_item_mean, on=['item_id'], how='left')\n",
    "test_df = pd.merge(test_df, gp_shop_item_mean, on=['shop_id', 'item_id'], how='left')\n",
    "test_df = pd.merge(test_df, gp_item_cat_mean, on=['item_category_id'], how='left')\n",
    "test_df.fillna(global_mean, inplace=True)"
   ]
  },
  {
   "cell_type": "markdown",
   "metadata": {},
   "source": [
    "### Text Preprocessing"
   ]
  },
  {
   "cell_type": "markdown",
   "metadata": {},
   "source": [
    "I tried some text features, but they turned out not to be very useful, so I didn't use them."
   ]
  },
  {
   "cell_type": "code",
   "execution_count": 40,
   "metadata": {},
   "outputs": [
    {
     "data": {
      "text/html": [
       "<div>\n",
       "<style scoped>\n",
       "    .dataframe tbody tr th:only-of-type {\n",
       "        vertical-align: middle;\n",
       "    }\n",
       "\n",
       "    .dataframe tbody tr th {\n",
       "        vertical-align: top;\n",
       "    }\n",
       "\n",
       "    .dataframe thead th {\n",
       "        text-align: right;\n",
       "    }\n",
       "</style>\n",
       "<table border=\"1\" class=\"dataframe\">\n",
       "  <thead>\n",
       "    <tr style=\"text-align: right;\">\n",
       "      <th></th>\n",
       "      <th>shop_id</th>\n",
       "      <th>shop_name_tfidf_0</th>\n",
       "      <th>shop_name_tfidf_1</th>\n",
       "      <th>shop_name_tfidf_2</th>\n",
       "      <th>shop_name_tfidf_3</th>\n",
       "      <th>shop_name_tfidf_4</th>\n",
       "      <th>shop_name_tfidf_5</th>\n",
       "      <th>shop_name_tfidf_6</th>\n",
       "      <th>shop_name_tfidf_7</th>\n",
       "      <th>shop_name_tfidf_8</th>\n",
       "      <th>...</th>\n",
       "      <th>shop_name_tfidf_15</th>\n",
       "      <th>shop_name_tfidf_16</th>\n",
       "      <th>shop_name_tfidf_17</th>\n",
       "      <th>shop_name_tfidf_18</th>\n",
       "      <th>shop_name_tfidf_19</th>\n",
       "      <th>shop_name_tfidf_20</th>\n",
       "      <th>shop_name_tfidf_21</th>\n",
       "      <th>shop_name_tfidf_22</th>\n",
       "      <th>shop_name_tfidf_23</th>\n",
       "      <th>shop_name_tfidf_24</th>\n",
       "    </tr>\n",
       "  </thead>\n",
       "  <tbody>\n",
       "    <tr>\n",
       "      <th>0</th>\n",
       "      <td>0</td>\n",
       "      <td>0.0</td>\n",
       "      <td>0.0</td>\n",
       "      <td>0.0</td>\n",
       "      <td>0.0</td>\n",
       "      <td>0.0</td>\n",
       "      <td>0.0</td>\n",
       "      <td>0.0</td>\n",
       "      <td>0.0</td>\n",
       "      <td>0.000000</td>\n",
       "      <td>...</td>\n",
       "      <td>0.0</td>\n",
       "      <td>0.0</td>\n",
       "      <td>0.0</td>\n",
       "      <td>0.0</td>\n",
       "      <td>0.0</td>\n",
       "      <td>0.0</td>\n",
       "      <td>0.000000</td>\n",
       "      <td>0.0</td>\n",
       "      <td>0.000000</td>\n",
       "      <td>1.000000</td>\n",
       "    </tr>\n",
       "    <tr>\n",
       "      <th>1</th>\n",
       "      <td>1</td>\n",
       "      <td>0.0</td>\n",
       "      <td>0.0</td>\n",
       "      <td>0.0</td>\n",
       "      <td>0.0</td>\n",
       "      <td>0.0</td>\n",
       "      <td>0.0</td>\n",
       "      <td>0.0</td>\n",
       "      <td>0.0</td>\n",
       "      <td>0.000000</td>\n",
       "      <td>...</td>\n",
       "      <td>0.0</td>\n",
       "      <td>0.0</td>\n",
       "      <td>0.0</td>\n",
       "      <td>0.0</td>\n",
       "      <td>0.0</td>\n",
       "      <td>0.0</td>\n",
       "      <td>0.322815</td>\n",
       "      <td>0.0</td>\n",
       "      <td>0.689588</td>\n",
       "      <td>0.648274</td>\n",
       "    </tr>\n",
       "    <tr>\n",
       "      <th>2</th>\n",
       "      <td>2</td>\n",
       "      <td>0.0</td>\n",
       "      <td>0.0</td>\n",
       "      <td>0.0</td>\n",
       "      <td>0.0</td>\n",
       "      <td>0.0</td>\n",
       "      <td>0.0</td>\n",
       "      <td>0.0</td>\n",
       "      <td>0.0</td>\n",
       "      <td>0.866844</td>\n",
       "      <td>...</td>\n",
       "      <td>0.0</td>\n",
       "      <td>0.0</td>\n",
       "      <td>0.0</td>\n",
       "      <td>0.0</td>\n",
       "      <td>0.0</td>\n",
       "      <td>0.0</td>\n",
       "      <td>0.498580</td>\n",
       "      <td>0.0</td>\n",
       "      <td>0.000000</td>\n",
       "      <td>0.000000</td>\n",
       "    </tr>\n",
       "    <tr>\n",
       "      <th>3</th>\n",
       "      <td>3</td>\n",
       "      <td>0.0</td>\n",
       "      <td>0.0</td>\n",
       "      <td>0.0</td>\n",
       "      <td>0.0</td>\n",
       "      <td>0.0</td>\n",
       "      <td>0.0</td>\n",
       "      <td>0.0</td>\n",
       "      <td>0.0</td>\n",
       "      <td>0.000000</td>\n",
       "      <td>...</td>\n",
       "      <td>0.0</td>\n",
       "      <td>0.0</td>\n",
       "      <td>0.0</td>\n",
       "      <td>0.0</td>\n",
       "      <td>1.0</td>\n",
       "      <td>0.0</td>\n",
       "      <td>0.000000</td>\n",
       "      <td>0.0</td>\n",
       "      <td>0.000000</td>\n",
       "      <td>0.000000</td>\n",
       "    </tr>\n",
       "    <tr>\n",
       "      <th>4</th>\n",
       "      <td>4</td>\n",
       "      <td>0.0</td>\n",
       "      <td>0.0</td>\n",
       "      <td>0.0</td>\n",
       "      <td>0.0</td>\n",
       "      <td>0.0</td>\n",
       "      <td>0.0</td>\n",
       "      <td>0.0</td>\n",
       "      <td>0.0</td>\n",
       "      <td>0.000000</td>\n",
       "      <td>...</td>\n",
       "      <td>0.0</td>\n",
       "      <td>0.0</td>\n",
       "      <td>0.0</td>\n",
       "      <td>0.0</td>\n",
       "      <td>0.0</td>\n",
       "      <td>0.0</td>\n",
       "      <td>0.423972</td>\n",
       "      <td>0.0</td>\n",
       "      <td>0.000000</td>\n",
       "      <td>0.000000</td>\n",
       "    </tr>\n",
       "  </tbody>\n",
       "</table>\n",
       "<p>5 rows × 26 columns</p>\n",
       "</div>"
      ],
      "text/plain": [
       "   shop_id  shop_name_tfidf_0  shop_name_tfidf_1  shop_name_tfidf_2  \\\n",
       "0        0                0.0                0.0                0.0   \n",
       "1        1                0.0                0.0                0.0   \n",
       "2        2                0.0                0.0                0.0   \n",
       "3        3                0.0                0.0                0.0   \n",
       "4        4                0.0                0.0                0.0   \n",
       "\n",
       "   shop_name_tfidf_3  shop_name_tfidf_4  shop_name_tfidf_5  shop_name_tfidf_6  \\\n",
       "0                0.0                0.0                0.0                0.0   \n",
       "1                0.0                0.0                0.0                0.0   \n",
       "2                0.0                0.0                0.0                0.0   \n",
       "3                0.0                0.0                0.0                0.0   \n",
       "4                0.0                0.0                0.0                0.0   \n",
       "\n",
       "   shop_name_tfidf_7  shop_name_tfidf_8  ...  shop_name_tfidf_15  \\\n",
       "0                0.0           0.000000  ...                 0.0   \n",
       "1                0.0           0.000000  ...                 0.0   \n",
       "2                0.0           0.866844  ...                 0.0   \n",
       "3                0.0           0.000000  ...                 0.0   \n",
       "4                0.0           0.000000  ...                 0.0   \n",
       "\n",
       "   shop_name_tfidf_16  shop_name_tfidf_17  shop_name_tfidf_18  \\\n",
       "0                 0.0                 0.0                 0.0   \n",
       "1                 0.0                 0.0                 0.0   \n",
       "2                 0.0                 0.0                 0.0   \n",
       "3                 0.0                 0.0                 0.0   \n",
       "4                 0.0                 0.0                 0.0   \n",
       "\n",
       "   shop_name_tfidf_19  shop_name_tfidf_20  shop_name_tfidf_21  \\\n",
       "0                 0.0                 0.0            0.000000   \n",
       "1                 0.0                 0.0            0.322815   \n",
       "2                 0.0                 0.0            0.498580   \n",
       "3                 1.0                 0.0            0.000000   \n",
       "4                 0.0                 0.0            0.423972   \n",
       "\n",
       "   shop_name_tfidf_22  shop_name_tfidf_23  shop_name_tfidf_24  \n",
       "0                 0.0            0.000000            1.000000  \n",
       "1                 0.0            0.689588            0.648274  \n",
       "2                 0.0            0.000000            0.000000  \n",
       "3                 0.0            0.000000            0.000000  \n",
       "4                 0.0            0.000000            0.000000  \n",
       "\n",
       "[5 rows x 26 columns]"
      ]
     },
     "execution_count": 40,
     "metadata": {},
     "output_type": "execute_result"
    }
   ],
   "source": [
    "feature_cnt = 25\n",
    "tfidf = TfidfVectorizer(max_features=feature_cnt)\n",
    "text_features = pd.DataFrame(tfidf.fit_transform(shops['shop_name']).toarray())\n",
    "cols = text_features.columns\n",
    "for i in range(feature_cnt):\n",
    "    shops['shop_name_tfidf_' + str(i)] = text_features[cols[i]]\n",
    "shops.drop(columns='shop_name', inplace=True)\n",
    "shops.head()"
   ]
  },
  {
   "cell_type": "markdown",
   "metadata": {},
   "source": [
    "Discard first 12 months of data from training.  In addition, we will single out data from date_block_num 28-33 as validation data (for model tuning purpose)."
   ]
  },
  {
   "cell_type": "code",
   "execution_count": 41,
   "metadata": {},
   "outputs": [],
   "source": [
    "valid_df = train_df[train_df['date_block_num'] >= 28] \n",
    "train_df = train_df[(train_df['date_block_num'] >= 12) & (train_df['date_block_num'] < 28)] "
   ]
  },
  {
   "cell_type": "markdown",
   "metadata": {},
   "source": [
    "# Downcasting (if necessary)"
   ]
  },
  {
   "cell_type": "code",
   "execution_count": 42,
   "metadata": {},
   "outputs": [
    {
     "name": "stdout",
     "output_type": "stream",
     "text": [
      "<class 'pandas.core.frame.DataFrame'>\n",
      "Int64Index: 5068102 entries, 4488710 to 9556811\n",
      "Data columns (total 49 columns):\n",
      " #   Column                       Dtype  \n",
      "---  ------                       -----  \n",
      " 0   shop_id                      int8   \n",
      " 1   item_id                      int16  \n",
      " 2   date_block_num               int8   \n",
      " 3   avg_item_price               float32\n",
      " 4   target                       float32\n",
      " 5   target_shop                  float32\n",
      " 6   target_item                  float32\n",
      " 7   item_category_id             int8   \n",
      " 8   target_item_category         float32\n",
      " 9   avg_item_price_lag_1         float32\n",
      " 10  target_lag_1                 float32\n",
      " 11  target_shop_lag_1            float32\n",
      " 12  target_item_lag_1            float32\n",
      " 13  target_item_category_lag_1   float32\n",
      " 14  avg_item_price_lag_2         float32\n",
      " 15  target_lag_2                 float32\n",
      " 16  target_shop_lag_2            float32\n",
      " 17  target_item_lag_2            float32\n",
      " 18  target_item_category_lag_2   float32\n",
      " 19  avg_item_price_lag_3         float32\n",
      " 20  target_lag_3                 float32\n",
      " 21  target_shop_lag_3            float32\n",
      " 22  target_item_lag_3            float32\n",
      " 23  target_item_category_lag_3   float32\n",
      " 24  avg_item_price_lag_4         float32\n",
      " 25  target_lag_4                 float32\n",
      " 26  target_shop_lag_4            float32\n",
      " 27  target_item_lag_4            float32\n",
      " 28  target_item_category_lag_4   float32\n",
      " 29  avg_item_price_lag_5         float32\n",
      " 30  target_lag_5                 float32\n",
      " 31  target_shop_lag_5            float32\n",
      " 32  target_item_lag_5            float32\n",
      " 33  target_item_category_lag_5   float32\n",
      " 34  avg_item_price_lag_6         float32\n",
      " 35  target_lag_6                 float32\n",
      " 36  target_shop_lag_6            float32\n",
      " 37  target_item_lag_6            float32\n",
      " 38  target_item_category_lag_6   float32\n",
      " 39  avg_item_price_lag_12        float32\n",
      " 40  target_lag_12                float32\n",
      " 41  target_shop_lag_12           float32\n",
      " 42  target_item_lag_12           float32\n",
      " 43  target_item_category_lag_12  float32\n",
      " 44  month                        int8   \n",
      " 45  shop_mean                    float64\n",
      " 46  item_mean                    float64\n",
      " 47  shop_item_mean               float64\n",
      " 48  item_category_mean           float64\n",
      "dtypes: float32(40), float64(4), int16(1), int8(4)\n",
      "memory usage: 995.7 MB\n"
     ]
    }
   ],
   "source": [
    "train_df.info()"
   ]
  },
  {
   "cell_type": "code",
   "execution_count": 43,
   "metadata": {},
   "outputs": [],
   "source": [
    "# Most data types are int8, int16, and float32.  We will just keep the float64 as is."
   ]
  },
  {
   "cell_type": "markdown",
   "metadata": {},
   "source": [
    "# Check Correlation of Features with Response"
   ]
  },
  {
   "cell_type": "markdown",
   "metadata": {},
   "source": [
    "Check correlation of features with response, to ensure that the engineered features are potentially useful."
   ]
  },
  {
   "cell_type": "code",
   "execution_count": 44,
   "metadata": {},
   "outputs": [],
   "source": [
    "r = train_df.corr()\n",
    "r_valid = valid_df.corr()\n",
    "r_test = test_df.corr()"
   ]
  },
  {
   "cell_type": "code",
   "execution_count": 45,
   "metadata": {},
   "outputs": [
    {
     "data": {
      "text/plain": [
       "shop_id                        0.021054\n",
       "item_id                       -0.049802\n",
       "date_block_num                 0.003156\n",
       "avg_item_price                 0.319697\n",
       "target                         1.000000\n",
       "target_shop                    0.181726\n",
       "target_item                    0.470900\n",
       "item_category_id              -0.081569\n",
       "target_item_category           0.029874\n",
       "avg_item_price_lag_1           0.185684\n",
       "target_lag_1                   0.587877\n",
       "target_shop_lag_1              0.160695\n",
       "target_item_lag_1              0.366174\n",
       "target_item_category_lag_1     0.033007\n",
       "avg_item_price_lag_2           0.152407\n",
       "target_lag_2                   0.460855\n",
       "target_shop_lag_2              0.115133\n",
       "target_item_lag_2              0.308850\n",
       "target_item_category_lag_2     0.000243\n",
       "avg_item_price_lag_3           0.132604\n",
       "target_lag_3                   0.394865\n",
       "target_shop_lag_3              0.090002\n",
       "target_item_lag_3              0.283653\n",
       "target_item_category_lag_3    -0.014046\n",
       "avg_item_price_lag_4           0.112848\n",
       "target_lag_4                   0.345562\n",
       "target_shop_lag_4              0.071562\n",
       "target_item_lag_4              0.265551\n",
       "target_item_category_lag_4    -0.021428\n",
       "avg_item_price_lag_5           0.104882\n",
       "target_lag_5                   0.319816\n",
       "target_shop_lag_5              0.061110\n",
       "target_item_lag_5              0.254097\n",
       "target_item_category_lag_5    -0.027518\n",
       "avg_item_price_lag_6           0.099033\n",
       "target_lag_6                   0.295954\n",
       "target_shop_lag_6              0.051599\n",
       "target_item_lag_6              0.241529\n",
       "target_item_category_lag_6    -0.033160\n",
       "avg_item_price_lag_12          0.071719\n",
       "target_lag_12                  0.209811\n",
       "target_shop_lag_12             0.034471\n",
       "target_item_lag_12             0.189003\n",
       "target_item_category_lag_12   -0.034498\n",
       "month                         -0.015662\n",
       "shop_mean                      0.172538\n",
       "item_mean                      0.461516\n",
       "shop_item_mean                 0.460548\n",
       "item_category_mean             0.298389\n",
       "Name: target, dtype: float64"
      ]
     },
     "execution_count": 45,
     "metadata": {},
     "output_type": "execute_result"
    }
   ],
   "source": [
    "r.loc[:,'target']"
   ]
  },
  {
   "cell_type": "markdown",
   "metadata": {},
   "source": [
    "In addition, we want to make sure that the correlation between features and target are consistent across training data, validation data, and test data.  This step also helps us understand the extent of data leakage due to mean encoding.  Since we do not have actual target value for test data, and this is a time series dataset, we will use target_lag_1 as a proxy. "
   ]
  },
  {
   "cell_type": "code",
   "execution_count": 46,
   "metadata": {},
   "outputs": [
    {
     "name": "stderr",
     "output_type": "stream",
     "text": [
      "/opt/anaconda3/lib/python3.7/site-packages/ipykernel_launcher.py:4: FutureWarning: Passing a negative integer is deprecated in version 1.0 and will not be supported in future version. Instead, use None to not limit the column width.\n",
      "  after removing the cwd from sys.path.\n"
     ]
    },
    {
     "data": {
      "text/html": [
       "<div>\n",
       "<style scoped>\n",
       "    .dataframe tbody tr th:only-of-type {\n",
       "        vertical-align: middle;\n",
       "    }\n",
       "\n",
       "    .dataframe tbody tr th {\n",
       "        vertical-align: top;\n",
       "    }\n",
       "\n",
       "    .dataframe thead th {\n",
       "        text-align: right;\n",
       "    }\n",
       "</style>\n",
       "<table border=\"1\" class=\"dataframe\">\n",
       "  <thead>\n",
       "    <tr style=\"text-align: right;\">\n",
       "      <th></th>\n",
       "      <th>target_lag_1</th>\n",
       "      <th>target_lag_1</th>\n",
       "      <th>target_lag_1</th>\n",
       "    </tr>\n",
       "  </thead>\n",
       "  <tbody>\n",
       "    <tr>\n",
       "      <th>shop_id</th>\n",
       "      <td>0.021706</td>\n",
       "      <td>0.008992</td>\n",
       "      <td>0.003538</td>\n",
       "    </tr>\n",
       "    <tr>\n",
       "      <th>item_id</th>\n",
       "      <td>-0.052530</td>\n",
       "      <td>-0.038763</td>\n",
       "      <td>-0.021679</td>\n",
       "    </tr>\n",
       "    <tr>\n",
       "      <th>date_block_num</th>\n",
       "      <td>-0.006048</td>\n",
       "      <td>-0.004619</td>\n",
       "      <td>NaN</td>\n",
       "    </tr>\n",
       "    <tr>\n",
       "      <th>avg_item_price</th>\n",
       "      <td>0.221132</td>\n",
       "      <td>0.161058</td>\n",
       "      <td>NaN</td>\n",
       "    </tr>\n",
       "    <tr>\n",
       "      <th>target</th>\n",
       "      <td>0.587877</td>\n",
       "      <td>0.548657</td>\n",
       "      <td>NaN</td>\n",
       "    </tr>\n",
       "    <tr>\n",
       "      <th>target_shop</th>\n",
       "      <td>0.164292</td>\n",
       "      <td>0.155580</td>\n",
       "      <td>NaN</td>\n",
       "    </tr>\n",
       "    <tr>\n",
       "      <th>target_item</th>\n",
       "      <td>0.335863</td>\n",
       "      <td>0.340277</td>\n",
       "      <td>NaN</td>\n",
       "    </tr>\n",
       "    <tr>\n",
       "      <th>item_category_id</th>\n",
       "      <td>-0.086980</td>\n",
       "      <td>-0.070912</td>\n",
       "      <td>-0.076901</td>\n",
       "    </tr>\n",
       "    <tr>\n",
       "      <th>target_item_category</th>\n",
       "      <td>0.024637</td>\n",
       "      <td>0.048226</td>\n",
       "      <td>NaN</td>\n",
       "    </tr>\n",
       "    <tr>\n",
       "      <th>avg_item_price_lag_1</th>\n",
       "      <td>0.327801</td>\n",
       "      <td>0.300053</td>\n",
       "      <td>0.264417</td>\n",
       "    </tr>\n",
       "    <tr>\n",
       "      <th>target_lag_1</th>\n",
       "      <td>1.000000</td>\n",
       "      <td>1.000000</td>\n",
       "      <td>1.000000</td>\n",
       "    </tr>\n",
       "    <tr>\n",
       "      <th>target_shop_lag_1</th>\n",
       "      <td>0.233454</td>\n",
       "      <td>0.218731</td>\n",
       "      <td>0.235021</td>\n",
       "    </tr>\n",
       "    <tr>\n",
       "      <th>target_item_lag_1</th>\n",
       "      <td>0.470355</td>\n",
       "      <td>0.499615</td>\n",
       "      <td>0.529094</td>\n",
       "    </tr>\n",
       "    <tr>\n",
       "      <th>target_item_category_lag_1</th>\n",
       "      <td>0.083127</td>\n",
       "      <td>0.098477</td>\n",
       "      <td>0.102014</td>\n",
       "    </tr>\n",
       "    <tr>\n",
       "      <th>avg_item_price_lag_2</th>\n",
       "      <td>0.199599</td>\n",
       "      <td>0.144716</td>\n",
       "      <td>0.125930</td>\n",
       "    </tr>\n",
       "    <tr>\n",
       "      <th>target_lag_2</th>\n",
       "      <td>0.597211</td>\n",
       "      <td>0.553720</td>\n",
       "      <td>0.516925</td>\n",
       "    </tr>\n",
       "    <tr>\n",
       "      <th>target_shop_lag_2</th>\n",
       "      <td>0.172814</td>\n",
       "      <td>0.173317</td>\n",
       "      <td>0.139163</td>\n",
       "    </tr>\n",
       "    <tr>\n",
       "      <th>target_item_lag_2</th>\n",
       "      <td>0.371266</td>\n",
       "      <td>0.335355</td>\n",
       "      <td>0.387896</td>\n",
       "    </tr>\n",
       "    <tr>\n",
       "      <th>target_item_category_lag_2</th>\n",
       "      <td>0.043317</td>\n",
       "      <td>0.051311</td>\n",
       "      <td>0.061264</td>\n",
       "    </tr>\n",
       "    <tr>\n",
       "      <th>avg_item_price_lag_3</th>\n",
       "      <td>0.158878</td>\n",
       "      <td>0.121316</td>\n",
       "      <td>0.101658</td>\n",
       "    </tr>\n",
       "    <tr>\n",
       "      <th>target_lag_3</th>\n",
       "      <td>0.463763</td>\n",
       "      <td>0.446181</td>\n",
       "      <td>0.429219</td>\n",
       "    </tr>\n",
       "    <tr>\n",
       "      <th>target_shop_lag_3</th>\n",
       "      <td>0.123558</td>\n",
       "      <td>0.130501</td>\n",
       "      <td>0.125344</td>\n",
       "    </tr>\n",
       "    <tr>\n",
       "      <th>target_item_lag_3</th>\n",
       "      <td>0.310499</td>\n",
       "      <td>0.311483</td>\n",
       "      <td>0.336147</td>\n",
       "    </tr>\n",
       "    <tr>\n",
       "      <th>target_item_category_lag_3</th>\n",
       "      <td>0.009350</td>\n",
       "      <td>0.021003</td>\n",
       "      <td>0.024088</td>\n",
       "    </tr>\n",
       "    <tr>\n",
       "      <th>avg_item_price_lag_4</th>\n",
       "      <td>0.138404</td>\n",
       "      <td>0.107667</td>\n",
       "      <td>0.098572</td>\n",
       "    </tr>\n",
       "    <tr>\n",
       "      <th>target_lag_4</th>\n",
       "      <td>0.398462</td>\n",
       "      <td>0.397315</td>\n",
       "      <td>0.390718</td>\n",
       "    </tr>\n",
       "    <tr>\n",
       "      <th>target_shop_lag_4</th>\n",
       "      <td>0.097838</td>\n",
       "      <td>0.104089</td>\n",
       "      <td>0.110412</td>\n",
       "    </tr>\n",
       "    <tr>\n",
       "      <th>target_item_lag_4</th>\n",
       "      <td>0.286163</td>\n",
       "      <td>0.292448</td>\n",
       "      <td>0.314877</td>\n",
       "    </tr>\n",
       "    <tr>\n",
       "      <th>target_item_category_lag_4</th>\n",
       "      <td>-0.004197</td>\n",
       "      <td>0.008361</td>\n",
       "      <td>0.007305</td>\n",
       "    </tr>\n",
       "    <tr>\n",
       "      <th>avg_item_price_lag_5</th>\n",
       "      <td>0.121824</td>\n",
       "      <td>0.092187</td>\n",
       "      <td>0.084295</td>\n",
       "    </tr>\n",
       "    <tr>\n",
       "      <th>target_lag_5</th>\n",
       "      <td>0.350495</td>\n",
       "      <td>0.348240</td>\n",
       "      <td>0.357462</td>\n",
       "    </tr>\n",
       "    <tr>\n",
       "      <th>target_shop_lag_5</th>\n",
       "      <td>0.078896</td>\n",
       "      <td>0.084355</td>\n",
       "      <td>0.098870</td>\n",
       "    </tr>\n",
       "    <tr>\n",
       "      <th>target_item_lag_5</th>\n",
       "      <td>0.266242</td>\n",
       "      <td>0.264155</td>\n",
       "      <td>0.304561</td>\n",
       "    </tr>\n",
       "    <tr>\n",
       "      <th>target_item_category_lag_5</th>\n",
       "      <td>-0.015063</td>\n",
       "      <td>0.000055</td>\n",
       "      <td>0.008070</td>\n",
       "    </tr>\n",
       "    <tr>\n",
       "      <th>avg_item_price_lag_6</th>\n",
       "      <td>0.110954</td>\n",
       "      <td>0.087041</td>\n",
       "      <td>0.081057</td>\n",
       "    </tr>\n",
       "    <tr>\n",
       "      <th>target_lag_6</th>\n",
       "      <td>0.319933</td>\n",
       "      <td>0.328220</td>\n",
       "      <td>0.332867</td>\n",
       "    </tr>\n",
       "    <tr>\n",
       "      <th>target_shop_lag_6</th>\n",
       "      <td>0.064659</td>\n",
       "      <td>0.073742</td>\n",
       "      <td>0.085844</td>\n",
       "    </tr>\n",
       "    <tr>\n",
       "      <th>target_item_lag_6</th>\n",
       "      <td>0.251394</td>\n",
       "      <td>0.252305</td>\n",
       "      <td>0.232525</td>\n",
       "    </tr>\n",
       "    <tr>\n",
       "      <th>target_item_category_lag_6</th>\n",
       "      <td>-0.022907</td>\n",
       "      <td>-0.006147</td>\n",
       "      <td>0.008814</td>\n",
       "    </tr>\n",
       "    <tr>\n",
       "      <th>avg_item_price_lag_12</th>\n",
       "      <td>0.078307</td>\n",
       "      <td>0.072669</td>\n",
       "      <td>0.050540</td>\n",
       "    </tr>\n",
       "    <tr>\n",
       "      <th>target_lag_12</th>\n",
       "      <td>0.215535</td>\n",
       "      <td>0.240728</td>\n",
       "      <td>0.247212</td>\n",
       "    </tr>\n",
       "    <tr>\n",
       "      <th>target_shop_lag_12</th>\n",
       "      <td>0.035172</td>\n",
       "      <td>0.035892</td>\n",
       "      <td>0.044344</td>\n",
       "    </tr>\n",
       "    <tr>\n",
       "      <th>target_item_lag_12</th>\n",
       "      <td>0.189744</td>\n",
       "      <td>0.247340</td>\n",
       "      <td>0.239638</td>\n",
       "    </tr>\n",
       "    <tr>\n",
       "      <th>target_item_category_lag_12</th>\n",
       "      <td>-0.031477</td>\n",
       "      <td>-0.018639</td>\n",
       "      <td>-0.011979</td>\n",
       "    </tr>\n",
       "    <tr>\n",
       "      <th>month</th>\n",
       "      <td>-0.030984</td>\n",
       "      <td>-0.004619</td>\n",
       "      <td>NaN</td>\n",
       "    </tr>\n",
       "    <tr>\n",
       "      <th>shop_mean</th>\n",
       "      <td>0.172446</td>\n",
       "      <td>0.162840</td>\n",
       "      <td>0.170546</td>\n",
       "    </tr>\n",
       "    <tr>\n",
       "      <th>item_mean</th>\n",
       "      <td>0.524476</td>\n",
       "      <td>0.446028</td>\n",
       "      <td>0.438849</td>\n",
       "    </tr>\n",
       "    <tr>\n",
       "      <th>shop_item_mean</th>\n",
       "      <td>0.543839</td>\n",
       "      <td>0.473812</td>\n",
       "      <td>0.467543</td>\n",
       "    </tr>\n",
       "    <tr>\n",
       "      <th>item_category_mean</th>\n",
       "      <td>0.301067</td>\n",
       "      <td>0.297247</td>\n",
       "      <td>0.297735</td>\n",
       "    </tr>\n",
       "  </tbody>\n",
       "</table>\n",
       "</div>"
      ],
      "text/plain": [
       "                             target_lag_1  target_lag_1  target_lag_1\n",
       "shop_id                      0.021706      0.008992      0.003538    \n",
       "item_id                     -0.052530     -0.038763     -0.021679    \n",
       "date_block_num              -0.006048     -0.004619     NaN          \n",
       "avg_item_price               0.221132      0.161058     NaN          \n",
       "target                       0.587877      0.548657     NaN          \n",
       "target_shop                  0.164292      0.155580     NaN          \n",
       "target_item                  0.335863      0.340277     NaN          \n",
       "item_category_id            -0.086980     -0.070912     -0.076901    \n",
       "target_item_category         0.024637      0.048226     NaN          \n",
       "avg_item_price_lag_1         0.327801      0.300053      0.264417    \n",
       "target_lag_1                 1.000000      1.000000      1.000000    \n",
       "target_shop_lag_1            0.233454      0.218731      0.235021    \n",
       "target_item_lag_1            0.470355      0.499615      0.529094    \n",
       "target_item_category_lag_1   0.083127      0.098477      0.102014    \n",
       "avg_item_price_lag_2         0.199599      0.144716      0.125930    \n",
       "target_lag_2                 0.597211      0.553720      0.516925    \n",
       "target_shop_lag_2            0.172814      0.173317      0.139163    \n",
       "target_item_lag_2            0.371266      0.335355      0.387896    \n",
       "target_item_category_lag_2   0.043317      0.051311      0.061264    \n",
       "avg_item_price_lag_3         0.158878      0.121316      0.101658    \n",
       "target_lag_3                 0.463763      0.446181      0.429219    \n",
       "target_shop_lag_3            0.123558      0.130501      0.125344    \n",
       "target_item_lag_3            0.310499      0.311483      0.336147    \n",
       "target_item_category_lag_3   0.009350      0.021003      0.024088    \n",
       "avg_item_price_lag_4         0.138404      0.107667      0.098572    \n",
       "target_lag_4                 0.398462      0.397315      0.390718    \n",
       "target_shop_lag_4            0.097838      0.104089      0.110412    \n",
       "target_item_lag_4            0.286163      0.292448      0.314877    \n",
       "target_item_category_lag_4  -0.004197      0.008361      0.007305    \n",
       "avg_item_price_lag_5         0.121824      0.092187      0.084295    \n",
       "target_lag_5                 0.350495      0.348240      0.357462    \n",
       "target_shop_lag_5            0.078896      0.084355      0.098870    \n",
       "target_item_lag_5            0.266242      0.264155      0.304561    \n",
       "target_item_category_lag_5  -0.015063      0.000055      0.008070    \n",
       "avg_item_price_lag_6         0.110954      0.087041      0.081057    \n",
       "target_lag_6                 0.319933      0.328220      0.332867    \n",
       "target_shop_lag_6            0.064659      0.073742      0.085844    \n",
       "target_item_lag_6            0.251394      0.252305      0.232525    \n",
       "target_item_category_lag_6  -0.022907     -0.006147      0.008814    \n",
       "avg_item_price_lag_12        0.078307      0.072669      0.050540    \n",
       "target_lag_12                0.215535      0.240728      0.247212    \n",
       "target_shop_lag_12           0.035172      0.035892      0.044344    \n",
       "target_item_lag_12           0.189744      0.247340      0.239638    \n",
       "target_item_category_lag_12 -0.031477     -0.018639     -0.011979    \n",
       "month                       -0.030984     -0.004619     NaN          \n",
       "shop_mean                    0.172446      0.162840      0.170546    \n",
       "item_mean                    0.524476      0.446028      0.438849    \n",
       "shop_item_mean               0.543839      0.473812      0.467543    \n",
       "item_category_mean           0.301067      0.297247      0.297735    "
      ]
     },
     "execution_count": 46,
     "metadata": {},
     "output_type": "execute_result"
    }
   ],
   "source": [
    "pd.set_option('display.max_rows', None)\n",
    "pd.set_option('display.max_columns', None)\n",
    "pd.set_option('display.width', None)\n",
    "pd.set_option('display.max_colwidth', -1)\n",
    "pd.concat([r.loc[:,['target_lag_1']], r_valid.loc[:,['target_lag_1']], r_test.loc[:,['target_lag_1']]], axis=1)"
   ]
  },
  {
   "cell_type": "code",
   "execution_count": 47,
   "metadata": {},
   "outputs": [
    {
     "data": {
      "text/plain": [
       "Index(['shop_id', 'item_id', 'date_block_num', 'avg_item_price', 'target',\n",
       "       'target_shop', 'target_item', 'item_category_id',\n",
       "       'target_item_category', 'avg_item_price_lag_1', 'target_lag_1',\n",
       "       'target_shop_lag_1', 'target_item_lag_1', 'target_item_category_lag_1',\n",
       "       'avg_item_price_lag_2', 'target_lag_2', 'target_shop_lag_2',\n",
       "       'target_item_lag_2', 'target_item_category_lag_2',\n",
       "       'avg_item_price_lag_3', 'target_lag_3', 'target_shop_lag_3',\n",
       "       'target_item_lag_3', 'target_item_category_lag_3',\n",
       "       'avg_item_price_lag_4', 'target_lag_4', 'target_shop_lag_4',\n",
       "       'target_item_lag_4', 'target_item_category_lag_4',\n",
       "       'avg_item_price_lag_5', 'target_lag_5', 'target_shop_lag_5',\n",
       "       'target_item_lag_5', 'target_item_category_lag_5',\n",
       "       'avg_item_price_lag_6', 'target_lag_6', 'target_shop_lag_6',\n",
       "       'target_item_lag_6', 'target_item_category_lag_6',\n",
       "       'avg_item_price_lag_12', 'target_lag_12', 'target_shop_lag_12',\n",
       "       'target_item_lag_12', 'target_item_category_lag_12', 'month',\n",
       "       'shop_mean', 'item_mean', 'shop_item_mean', 'item_category_mean'],\n",
       "      dtype='object')"
      ]
     },
     "execution_count": 47,
     "metadata": {},
     "output_type": "execute_result"
    }
   ],
   "source": [
    "train_df.columns"
   ]
  },
  {
   "cell_type": "markdown",
   "metadata": {},
   "source": [
    "# Store Cleaned Data"
   ]
  },
  {
   "cell_type": "code",
   "execution_count": 48,
   "metadata": {},
   "outputs": [],
   "source": [
    "train_df.to_hdf('../CleanData/trainDF.h5', key='df', mode='w', complib='zlib')\n",
    "valid_df.to_hdf('../CleanData/validDF.h5', key='df', mode='w', complib='zlib')\n",
    "test_df.to_hdf('../CleanData/testDF.h5', key='df', mode='w', complib='zlib')"
   ]
  }
 ],
 "metadata": {
  "kernelspec": {
   "display_name": "Python 3",
   "language": "python",
   "name": "python3"
  },
  "language_info": {
   "codemirror_mode": {
    "name": "ipython",
    "version": 3
   },
   "file_extension": ".py",
   "mimetype": "text/x-python",
   "name": "python",
   "nbconvert_exporter": "python",
   "pygments_lexer": "ipython3",
   "version": "3.7.6"
  }
 },
 "nbformat": 4,
 "nbformat_minor": 4
}
